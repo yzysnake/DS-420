{
  "nbformat": 4,
  "nbformat_minor": 0,
  "metadata": {
    "kernelspec": {
      "name": "python36",
      "display_name": "Python 3.6",
      "language": "python"
    },
    "language_info": {
      "mimetype": "text/x-python",
      "nbconvert_exporter": "python",
      "name": "python",
      "pygments_lexer": "ipython3",
      "version": "3.6.6",
      "file_extension": ".py",
      "codemirror_mode": {
        "version": 3,
        "name": "ipython"
      }
    },
    "colab": {
      "provenance": [],
      "collapsed_sections": []
    }
  },
  "cells": [
    {
      "cell_type": "markdown",
      "metadata": {
        "collapsed": true,
        "id": "uEvyhDi06VkR"
      },
      "source": [
        "# Lab 4 Power Iteration and Link Preidction\n",
        "## Due: Midnight, October 9th\n",
        "In this lab, we will introduce\n",
        "1. **Power iteration for Eigenvector Centrality**\n",
        "2. **Eigendecompstion for Eigenvector Centrality**\n",
        "3. **Node Similarity**\n",
        "4. **Link Preidciton**`\n",
        "\n",
        "\n",
        "## Save Your Notebook! \n",
        "- Click on File (upper left corner), Select “Save” or press Ctrl+S.\n",
        "- Important: You may loose your modification to a notebook if you do not Save it explicitly.\n",
        "- Advice: Save often.  \n",
        "\n",
        "\n",
        "## Submission\n",
        "- Please follow the instructions and finish the exercises.\n",
        "- After you finish the lab, please Click on File, Select “Download .ipynb”\n",
        "- After download is complete, Click on File, Select “Print”, and and Choose ``Save as PDF''\n",
        "- Submit both the Notebook file and the PDF File as your submission for Lab 4."
      ]
    },
    {
      "cell_type": "markdown",
      "metadata": {
        "id": "VcRo8G0b6VkS"
      },
      "source": [
        "# 1. Preparation\n",
        "Before we start to visualize the networks, we have to install the packages and prepare the network dataset. \n",
        "# 1.1 Connect this Colab notebook with your Google Drive\n"
      ]
    },
    {
      "cell_type": "code",
      "metadata": {
        "id": "QMNj-R_OpI-Z",
        "colab": {
          "base_uri": "https://localhost:8080/"
        },
        "outputId": "29f2f152-d409-4881-b7be-f66a94dcab7f"
      },
      "source": [
        "# The following code will mount the drive\n",
        "from google.colab import drive\n",
        "drive.mount('/content/gdrive')"
      ],
      "execution_count": 1,
      "outputs": [
        {
          "output_type": "stream",
          "name": "stdout",
          "text": [
            "Mounted at /content/gdrive\n"
          ]
        }
      ]
    },
    {
      "cell_type": "markdown",
      "metadata": {
        "id": "LbZuGnZmpG0i"
      },
      "source": [
        "# 1.2. Install Packages\n",
        "The following packages should be avaialbe in Colab. In case not, run the following codes"
      ]
    },
    {
      "cell_type": "code",
      "metadata": {
        "trusted": true,
        "id": "ys41aSp-6VkS",
        "colab": {
          "base_uri": "https://localhost:8080/"
        },
        "outputId": "9b6c0cfa-a4c4-4656-dfc6-fde8ca1f8731"
      },
      "source": [
        "!pip install matplotlib\n",
        "!pip install networkx\n",
        "!pip install numpy"
      ],
      "execution_count": 2,
      "outputs": [
        {
          "output_type": "stream",
          "name": "stdout",
          "text": [
            "Looking in indexes: https://pypi.org/simple, https://us-python.pkg.dev/colab-wheels/public/simple/\n",
            "Requirement already satisfied: matplotlib in /usr/local/lib/python3.7/dist-packages (3.2.2)\n",
            "Requirement already satisfied: python-dateutil>=2.1 in /usr/local/lib/python3.7/dist-packages (from matplotlib) (2.8.2)\n",
            "Requirement already satisfied: numpy>=1.11 in /usr/local/lib/python3.7/dist-packages (from matplotlib) (1.21.6)\n",
            "Requirement already satisfied: pyparsing!=2.0.4,!=2.1.2,!=2.1.6,>=2.0.1 in /usr/local/lib/python3.7/dist-packages (from matplotlib) (3.0.9)\n",
            "Requirement already satisfied: kiwisolver>=1.0.1 in /usr/local/lib/python3.7/dist-packages (from matplotlib) (1.4.4)\n",
            "Requirement already satisfied: cycler>=0.10 in /usr/local/lib/python3.7/dist-packages (from matplotlib) (0.11.0)\n",
            "Requirement already satisfied: typing-extensions in /usr/local/lib/python3.7/dist-packages (from kiwisolver>=1.0.1->matplotlib) (4.1.1)\n",
            "Requirement already satisfied: six>=1.5 in /usr/local/lib/python3.7/dist-packages (from python-dateutil>=2.1->matplotlib) (1.15.0)\n",
            "Looking in indexes: https://pypi.org/simple, https://us-python.pkg.dev/colab-wheels/public/simple/\n",
            "Requirement already satisfied: networkx in /usr/local/lib/python3.7/dist-packages (2.6.3)\n",
            "Looking in indexes: https://pypi.org/simple, https://us-python.pkg.dev/colab-wheels/public/simple/\n",
            "Requirement already satisfied: numpy in /usr/local/lib/python3.7/dist-packages (1.21.6)\n"
          ]
        }
      ]
    },
    {
      "cell_type": "markdown",
      "metadata": {
        "id": "icnk_dG46VkY"
      },
      "source": [
        "# 1.2. Import and Visualize the Graph\n",
        "We will use the same undirected weighted graph as we used in Lab 3. If you didn't upload to Google drive, please download it from Canvas and upload it to the folder DS420 of Google Drive. Next, we will load the graph and visualize it. In particular, the width of the edge is based on the weight of edge."
      ]
    },
    {
      "cell_type": "code",
      "metadata": {
        "trusted": true,
        "id": "RCvXHzYx6VkW"
      },
      "source": [
        "import networkx as nx\n",
        "import matplotlib.pyplot as plt\n",
        "import numpy as np"
      ],
      "execution_count": 3,
      "outputs": []
    },
    {
      "cell_type": "code",
      "metadata": {
        "trusted": true,
        "id": "G9pNWM5z6VkZ",
        "colab": {
          "base_uri": "https://localhost:8080/",
          "height": 357
        },
        "outputId": "57d09a51-8150-4a89-d4d3-89daee27a26e"
      },
      "source": [
        "%matplotlib inline\n",
        "plt.figure(figsize=(6,6))\n",
        "G = nx.read_edgelist(path=\"/content/gdrive/My Drive/DS420/undirected_weighted.edgelist\", delimiter=' ', nodetype=int, data=(('weight',float),))\n",
        "pos = nx.fruchterman_reingold_layout(G)\n",
        "edges = []\n",
        "weights = []\n",
        "for (source, target, weight) in G.edges.data('weight'):\n",
        "    edges.append((source, target))\n",
        "    weights.append(weight)\n",
        "nx.draw_networkx_nodes(G, pos, node_size=400, node_color='orange')\n",
        "nx.draw_networkx_edges(G, pos, edgelist=edges, width=weights*32)\n",
        "nx.draw_networkx_labels(G, pos, font_size=12)\n",
        "plt.show()"
      ],
      "execution_count": 5,
      "outputs": [
        {
          "output_type": "display_data",
          "data": {
            "text/plain": [
              "<Figure size 432x432 with 1 Axes>"
            ],
            "image/png": "[encoded data removed]"
          },
          "metadata": {}
        }
      ]
    },
    {
      "cell_type": "markdown",
      "metadata": {
        "id": "HkxWraoh6Vkd"
      },
      "source": [
        "You should see the visualization of the graph. The thicker the edge, the larger the weight. The weight plays an important role in eigenvector centrality."
      ]
    },
    {
      "cell_type": "markdown",
      "metadata": {
        "id": "pAiLrePi6Vkd"
      },
      "source": [
        "# 2. Power Iteration for Eigenvector Centrality\n",
        "We will implement power iteration for eigenvector centrality. In eigenvector centrality, a node aggregate its neighbors' centralities as </br>\n",
        "\\begin{equation}\n",
        "C_e(v_i) = \\frac{1}{\\lambda}\\sum_{v_j \\in \\mathcal{N}^{in}(v_i)} A_{ji} C_e(v_j)\n",
        "\\end{equation}\n",
        "where $\\mathcal{N}^{in}(v_i)$ denotes the set of nodes that have incoming links to node $v_i$. It is a recursive definition as the calcualtion of $C_e(v_i)$ depends on $C_e(v_j)$, and the calcualtion of  $C_e(v_j)$ depends on $C_e(v_i)$. We will use power iteration to learn the eigenvector centralities. The basic idea of power iteration is that every node starts with the same score, then each node gives away its score to its successors. We iteratively update the score until convergence. The pseduo code is given below\n",
        "\n",
        "**Power Iteration**</br>\n",
        "1. Initialization: set $C_e(v_1), C_e(v_2), \\dots, C_e(v_N)$ to 1\n",
        "2. Update $C_e(v_1), C_e(v_2), \\dots, C_e(v_n)$ based on the equation\n",
        "\\begin{equation}\n",
        "C_e(v_i) \\leftarrow \\sum_{v_j \\in \\mathcal{N}^{in}(v_i)} A_{ji} C_e(v_j)\n",
        "\\end{equation}\n",
        "3. Normalize each term as \n",
        "\\begin{equation}\n",
        "C_e(v_i) \\leftarrow \\frac{C_e(v_i)}{\\sqrt{\\sum_{j=1}^N C_e(v_j)^2}}\n",
        "\\end{equation}\n",
        "4. Repeat 2 and 3 until convergence"
      ]
    },
    {
      "cell_type": "markdown",
      "metadata": {
        "id": "iq8YkQiK6Vke"
      },
      "source": [
        "## 2.1 Basic Operations\n",
        "Before we implement the power iteration. Let's first introduce some basic operations"
      ]
    },
    {
      "cell_type": "code",
      "metadata": {
        "trusted": true,
        "id": "T-4DXn9F6Vke",
        "colab": {
          "base_uri": "https://localhost:8080/"
        },
        "outputId": "d1c70a53-d12a-41b2-8a60-819f4a3ea6f0"
      },
      "source": [
        "# Get nodes of a Graph: G.nodes\n",
        "G.nodes"
      ],
      "execution_count": 6,
      "outputs": [
        {
          "output_type": "execute_result",
          "data": {
            "text/plain": [
              "NodeView((1, 2, 3, 4, 5, 6, 7, 8, 9, 10, 11, 12, 13, 14, 15, 16))"
            ]
          },
          "metadata": {},
          "execution_count": 6
        }
      ]
    },
    {
      "cell_type": "code",
      "metadata": {
        "trusted": true,
        "id": "JL8cZDTS6Vki",
        "colab": {
          "base_uri": "https://localhost:8080/"
        },
        "outputId": "58413669-80c8-4178-fd18-52fdcf263708"
      },
      "source": [
        "# Get neighbor of node 1： G.neighbors(1)\n",
        "current_node = 1\n",
        "list(G.neighbors(current_node))"
      ],
      "execution_count": 7,
      "outputs": [
        {
          "output_type": "execute_result",
          "data": {
            "text/plain": [
              "[2, 3, 4, 5, 6, 12, 15, 16]"
            ]
          },
          "metadata": {},
          "execution_count": 7
        }
      ]
    },
    {
      "cell_type": "code",
      "metadata": {
        "trusted": true,
        "id": "ah9Nm81r6Vkl",
        "colab": {
          "base_uri": "https://localhost:8080/"
        },
        "outputId": "2aed3130-c946-46ed-cb15-37b258f913b4"
      },
      "source": [
        "# Get weights of edges connecting to node 1\n",
        "for neighbor in G.neighbors(current_node):\n",
        "    print(G.get_edge_data(neighbor, current_node)['weight'])"
      ],
      "execution_count": 8,
      "outputs": [
        {
          "output_type": "stream",
          "name": "stdout",
          "text": [
            "1.0\n",
            "2.0\n",
            "2.0\n",
            "2.0\n",
            "2.0\n",
            "2.0\n",
            "1.0\n",
            "1.0\n"
          ]
        }
      ]
    },
    {
      "cell_type": "code",
      "metadata": {
        "trusted": true,
        "id": "XBa-W_lK6Vko",
        "colab": {
          "base_uri": "https://localhost:8080/"
        },
        "outputId": "8c1d5b2d-9392-40e8-9c22-f583d7dd6035"
      },
      "source": [
        "# With the above operations, we can update the eigenvector centrality of a node as follows\n",
        "Ce = {node:1.0 for node in G.nodes} # create a dictionary with key as the nodes and values are 1\n",
        "new_score = 0\n",
        "for neighbor in G.neighbors(current_node):\n",
        "    new_score += Ce[neighbor] * G.get_edge_data(neighbor, current_node)['weight'] # aggregate the neighbors' centralities\n",
        "print(new_score)"
      ],
      "execution_count": 9,
      "outputs": [
        {
          "output_type": "stream",
          "name": "stdout",
          "text": [
            "13.0\n"
          ]
        }
      ]
    },
    {
      "cell_type": "code",
      "metadata": {
        "trusted": true,
        "id": "-c4IOoRi6Vkq",
        "colab": {
          "base_uri": "https://localhost:8080/"
        },
        "outputId": "6da8d94c-946f-4214-bb4d-2e1ce91f8cf9"
      },
      "source": [
        "# If you are familar with Python, the above code can also be written as\n",
        "Ce = {node:1.0 for node in G.nodes} # create a dictionary with key as the nodes and values are 1\n",
        "new_score = sum(Ce[neighbor] * G.get_edge_data(neighbor, current_node)['weight'] for neighbor in G.neighbors(current_node))\n",
        "print(new_score)"
      ],
      "execution_count": 10,
      "outputs": [
        {
          "output_type": "stream",
          "name": "stdout",
          "text": [
            "13.0\n"
          ]
        }
      ]
    },
    {
      "cell_type": "markdown",
      "metadata": {
        "id": "aTxOvN7a6Vks"
      },
      "source": [
        "## 2.2 Implementing Power Iteration\n",
        "With the basic operations above, we can implement power iterations. Note we use **maxiter** to control the iterations as we want to show how the eigenvector centralarity changes."
      ]
    },
    {
      "cell_type": "code",
      "metadata": {
        "trusted": true,
        "id": "70eoOrUd6Vkt"
      },
      "source": [
        "# create a dictionary with key as the nodes and values are 1\n",
        "Ce = {node:1.0 for node in G.nodes}\n",
        "maxiter = 10\n",
        "Ce_record = np.ones((len(G), maxiter+1)) # we use this to record how Ce changes\n",
        "Ce_tmp = {node:0.0 for node in G.nodes}  # this is used to store the intermediate value of Ce"
      ],
      "execution_count": 11,
      "outputs": []
    },
    {
      "cell_type": "code",
      "metadata": {
        "trusted": true,
        "id": "bv_ldiLj6Vkw"
      },
      "source": [
        "# main loop\n",
        "for i in range(0, maxiter):\n",
        "    \n",
        "    # for each node, calculate their new eigenvector score and put in Ce_tmp\n",
        "    for current_node in Ce.keys():\n",
        "        # aggregate the centrality score from connected neighbors\n",
        "        Ce_tmp[current_node] = sum(Ce[neighbor] * G.get_edge_data(neighbor, current_node)['weight'] for neighbor in G.neighbors(current_node))\n",
        "\n",
        "        \"\"\"\n",
        "        # If you are not familar with Python, the above line is equivalent to the following\n",
        "        tmp = 0\n",
        "        for neighbor in G.neighbors(current_node):\n",
        "          tmp += Ce[neighbor] * G.get_edge_data(neighbor, current_node)['weight']\n",
        "        Ce_tmp[current_node] = tmp\n",
        "        \"\"\"\n",
        "\n",
        "    # normalization\n",
        "    normalization_term = sum(Ce_tmp[node]**2 for node in Ce_tmp) ** 0.5\n",
        "    for node in Ce:\n",
        "        Ce[node] = Ce_tmp[node] / normalization_term\n",
        "\n",
        "    # record the values\n",
        "    for node,j in zip(Ce, range(0, len(G))):\n",
        "        Ce_record[j,i+1] = Ce[node]\n"
      ],
      "execution_count": 21,
      "outputs": []
    },
    {
      "cell_type": "code",
      "metadata": {
        "trusted": true,
        "id": "6w11lNpf6Vky",
        "colab": {
          "base_uri": "https://localhost:8080/",
          "height": 672
        },
        "outputId": "ab02ff54-9865-4a0f-c245-5dc4d9f87f36"
      },
      "source": [
        "# results\n",
        "print('eigenvector centralities: {}'.format(Ce))\n",
        "\n",
        "# visualize how the centrality changes\n",
        "plt.figure()\n",
        "plt.plot(np.transpose(Ce_record))\n",
        "plt.title('Eigenvector Centrality in Each Iteration')\n",
        "plt.xlabel('Iteration')\n",
        "plt.ylabel('Eigenvector Centrality')\n",
        "plt.show()\n",
        "\n",
        "# visualiz the graph with node size reflecting the centrality\n",
        "plt.figure(figsize=(6,6))\n",
        "nodesize = [Ce[node]*1200 for node in Ce]\n",
        "nx.draw_networkx(G, pos, with_labels=True, node_size=nodesize, font_size=12, node_color=nodesize)\n",
        "plt.show()"
      ],
      "execution_count": 22,
      "outputs": [
        {
          "output_type": "stream",
          "name": "stdout",
          "text": [
            "eigenvector centralities: {1: 0.2559301168406317, 2: 0.2786619503569094, 3: 0.14526481888950304, 4: 0.06613518340550696, 5: 0.25240924819133903, 6: 0.32369757710133484, 7: 0.14363114951401926, 8: 0.13312674243832168, 9: 0.27218106256721175, 10: 0.2026929331579325, 11: 0.31362701590255976, 12: 0.2615611285516877, 13: 0.28656747896107726, 14: 0.1684097906306847, 15: 0.339329505540746, 16: 0.3419912279795041}\n"
          ]
        },
        {
          "output_type": "display_data",
          "data": {
            "text/plain": [
              "<Figure size 432x288 with 1 Axes>"
            ],
            "image/png": "[encoded data removed]"
          },
          "metadata": {
            "needs_background": "light"
          }
        },
        {
          "output_type": "display_data",
          "data": {
            "text/plain": [
              "<Figure size 432x432 with 1 Axes>"
            ],
            "image/png": "[encoded data removed]"
          },
          "metadata": {}
        }
      ]
    },
    {
      "cell_type": "markdown",
      "metadata": {
        "id": "K35WTFbWt17I"
      },
      "source": [
        "From the above visualization, we can observe that after 3 iterations, the algorithm converges."
      ]
    },
    {
      "cell_type": "markdown",
      "metadata": {
        "id": "cS78xkaQ6Vk0"
      },
      "source": [
        "## <font color='green'>Exercise 1: Power Iteration for Katz Centraltiy</font>\n",
        "Following the above example, please implement power iteration for Katz Centrality. The equation for Katz centrality is \n",
        "\\begin{equation}\n",
        "C_k(v_i) = \\alpha\\sum_{v_j \\in \\mathcal{N}^{in}(v_i)} A_{ji} C_k(v_j) + \\beta\n",
        "\\end{equation}\n",
        "Please set $\\alpha=0.85$, $\\beta=0.15$\n",
        "\n",
        "**Power Iteration**</br>\n",
        "1. Initialization: set $C_k(v_1), C_k(v_2), \\dots, C_k(v_N)$ to 1\n",
        "2. Update $C_k(v_1), C_k(v_2), \\dots, C_k(v_n)$ based on the equation\n",
        "\\begin{equation}\n",
        "C_k(v_i) \\leftarrow \\sum_{v_j \\in \\mathcal{N}^{in}(v_i)} A_{ji} C_k(v_j) + \\frac{\\beta}{\\alpha}\n",
        "\\end{equation}\n",
        "3. Normalize each term as \n",
        "\\begin{equation}\n",
        "C_k(v_i) \\leftarrow \\frac{C_k(v_i)}{\\sqrt{\\sum_{j=1}^N C_k(v_j)^2}}\n",
        "\\end{equation}\n",
        "4. Repeat 2 and 3 until convergence"
      ]
    },
    {
      "cell_type": "code",
      "metadata": {
        "trusted": true,
        "id": "LAuFRvjz6Vk1"
      },
      "source": [
        "# TODO\n",
        "# Hint: the only difference with eigenvector centrality is in step 2, we need to add beta/alpha\n",
        "alpha = 0.85\n",
        "beta = 0.15\n",
        "\n",
        "# Your code here:  ????????????????????"
      ],
      "execution_count": 14,
      "outputs": []
    },
    {
      "cell_type": "markdown",
      "metadata": {
        "id": "F-i6kiGV6Vk3"
      },
      "source": [
        "## 2.3 Vectorization\n",
        "The equation for eigenvector centrality can be vectrozied as\n",
        "\\begin{equation}\n",
        "\\mathbf{c} = \\frac{1}{\\lambda}\\mathbf{A}^T \\mathbf{c}\n",
        "\\end{equation}\n",
        "Where $\\mathbf{c}$ is a vector of size $N$ with the $i$-th element as the eigenvector centrality of the $i$-th node in the graph. With the vectorized version, the implementation is much easier.\n",
        "\n",
        "**Power Iteration**</br>\n",
        "1. Initialization: set **c** to all one vector\n",
        "2. Update **c** based on the equation\n",
        "\\begin{equation}\n",
        "\\mathbf{c} \\leftarrow \\mathbf{A}^T \\mathbf{c}\n",
        "\\end{equation}\n",
        "3. Normalize each term as \n",
        "\\begin{equation}\n",
        "\\mathbf{c} \\leftarrow \\frac{\\mathbf{c}}{\\|\\mathbf{c}\\|_2}\n",
        "\\end{equation}\n",
        "4. Repeat 2 and 3 until convergence"
      ]
    },
    {
      "cell_type": "markdown",
      "metadata": {
        "id": "VFAkU5sv6Vk3"
      },
      "source": [
        "### basic operations\n",
        "We will first introduce some basice operations"
      ]
    },
    {
      "cell_type": "code",
      "metadata": {
        "trusted": true,
        "id": "dPGsnnLE6Vk3",
        "colab": {
          "base_uri": "https://localhost:8080/",
          "height": 570
        },
        "outputId": "643ab06b-c32b-4767-e14c-d720374e3837"
      },
      "source": [
        "# we can use nx.adjacency_matrix(G) to get the adjacency matrix of G\n",
        "A = nx.adjacency_matrix(G).todense()\n",
        "print(A)\n",
        "plt.matshow(A)"
      ],
      "execution_count": 23,
      "outputs": [
        {
          "output_type": "stream",
          "name": "stdout",
          "text": [
            "[[0. 1. 2. 2. 2. 2. 0. 0. 0. 0. 0. 2. 0. 0. 1. 1.]\n",
            " [1. 0. 2. 0. 2. 2. 0. 0. 2. 2. 0. 0. 0. 0. 1. 1.]\n",
            " [2. 2. 0. 1. 0. 1. 1. 1. 0. 0. 0. 0. 0. 0. 0. 0.]\n",
            " [2. 0. 1. 0. 0. 0. 0. 1. 0. 0. 0. 0. 0. 0. 0. 0.]\n",
            " [2. 2. 0. 0. 0. 0. 1. 0. 1. 0. 0. 0. 0. 1. 2. 2.]\n",
            " [2. 2. 1. 0. 0. 0. 1. 1. 2. 0. 1. 1. 2. 0. 0. 2.]\n",
            " [0. 0. 1. 0. 1. 1. 0. 1. 0. 0. 1. 1. 1. 0. 0. 0.]\n",
            " [0. 0. 1. 1. 0. 1. 1. 0. 0. 0. 1. 1. 0. 2. 0. 0.]\n",
            " [0. 2. 0. 0. 1. 2. 0. 0. 0. 1. 2. 0. 1. 0. 2. 0.]\n",
            " [0. 2. 0. 0. 0. 0. 0. 0. 1. 0. 2. 0. 1. 0. 2. 0.]\n",
            " [0. 0. 0. 0. 0. 1. 1. 1. 2. 2. 0. 1. 2. 0. 2. 2.]\n",
            " [2. 0. 0. 0. 0. 1. 1. 1. 0. 0. 1. 0. 0. 2. 2. 2.]\n",
            " [0. 0. 0. 0. 0. 2. 1. 0. 1. 1. 2. 0. 0. 1. 2. 2.]\n",
            " [0. 0. 0. 0. 1. 0. 0. 2. 0. 0. 0. 2. 1. 0. 0. 2.]\n",
            " [1. 1. 0. 0. 2. 0. 0. 0. 2. 2. 2. 2. 2. 0. 0. 1.]\n",
            " [1. 1. 0. 0. 2. 2. 0. 0. 0. 0. 2. 2. 2. 2. 1. 0.]]\n"
          ]
        },
        {
          "output_type": "execute_result",
          "data": {
            "text/plain": [
              "<matplotlib.image.AxesImage at 0x7fe0dee6a2d0>"
            ]
          },
          "metadata": {},
          "execution_count": 23
        },
        {
          "output_type": "display_data",
          "data": {
            "text/plain": [
              "<Figure size 288x288 with 1 Axes>"
            ],
            "image/png": "[encoded data removed]"
          },
          "metadata": {
            "needs_background": "light"
          }
        }
      ]
    },
    {
      "cell_type": "markdown",
      "metadata": {
        "id": "SV4ffG7V6Vk6"
      },
      "source": [
        "The visualization of the adjency matrix has 3 colors, which represent there weights, yellow: 2, green: 1 and blue: 0"
      ]
    },
    {
      "cell_type": "code",
      "metadata": {
        "trusted": true,
        "id": "rG75KEDK6Vk7",
        "colab": {
          "base_uri": "https://localhost:8080/"
        },
        "outputId": "1751b116-b76f-4c23-c7eb-17875471f000"
      },
      "source": [
        "# create a vector of size (A.shape[0], 1)\n",
        "c = np.ones((A.shape[0], 1))\n",
        "print(c)"
      ],
      "execution_count": 24,
      "outputs": [
        {
          "output_type": "stream",
          "name": "stdout",
          "text": [
            "[[1.]\n",
            " [1.]\n",
            " [1.]\n",
            " [1.]\n",
            " [1.]\n",
            " [1.]\n",
            " [1.]\n",
            " [1.]\n",
            " [1.]\n",
            " [1.]\n",
            " [1.]\n",
            " [1.]\n",
            " [1.]\n",
            " [1.]\n",
            " [1.]\n",
            " [1.]]\n"
          ]
        }
      ]
    },
    {
      "cell_type": "code",
      "metadata": {
        "trusted": true,
        "id": "mS5Gy0Ij6Vk9",
        "colab": {
          "base_uri": "https://localhost:8080/"
        },
        "outputId": "425084f7-7e55-4a86-c4d1-459c8337f6d2"
      },
      "source": [
        "# update the the centrality score with the equation\n",
        "c = np.dot(np.transpose(A), c)  # A^T c\n",
        "print(c)"
      ],
      "execution_count": 25,
      "outputs": [
        {
          "output_type": "stream",
          "name": "stdout",
          "text": [
            "[[13.]\n",
            " [13.]\n",
            " [ 8.]\n",
            " [ 4.]\n",
            " [11.]\n",
            " [15.]\n",
            " [ 7.]\n",
            " [ 8.]\n",
            " [11.]\n",
            " [ 8.]\n",
            " [14.]\n",
            " [12.]\n",
            " [12.]\n",
            " [ 8.]\n",
            " [15.]\n",
            " [15.]]\n"
          ]
        }
      ]
    },
    {
      "cell_type": "code",
      "metadata": {
        "trusted": true,
        "id": "WcLcHHpK6VlB",
        "colab": {
          "base_uri": "https://localhost:8080/"
        },
        "outputId": "a0128566-fdea-4089-b8c2-2b75ae7e35fb"
      },
      "source": [
        "# normalization\n",
        "c = c / np.linalg.norm(c)\n",
        "print(c)"
      ],
      "execution_count": 26,
      "outputs": [
        {
          "output_type": "stream",
          "name": "stdout",
          "text": [
            "[[0.28642422]\n",
            " [0.28642422]\n",
            " [0.17626106]\n",
            " [0.08813053]\n",
            " [0.24235896]\n",
            " [0.33048949]\n",
            " [0.15422843]\n",
            " [0.17626106]\n",
            " [0.24235896]\n",
            " [0.17626106]\n",
            " [0.30845685]\n",
            " [0.26439159]\n",
            " [0.26439159]\n",
            " [0.17626106]\n",
            " [0.33048949]\n",
            " [0.33048949]]\n"
          ]
        }
      ]
    },
    {
      "cell_type": "markdown",
      "metadata": {
        "id": "CrfcXYZn6VlD"
      },
      "source": [
        "### With these operations, we can now implemnt the power iteration for eigenvector centrality"
      ]
    },
    {
      "cell_type": "code",
      "metadata": {
        "trusted": true,
        "id": "7c3lTop76VlE"
      },
      "source": [
        "# initialization\n",
        "c = np.ones((A.shape[0], 1))\n",
        "\n",
        "# main loop\n",
        "maxiter = 10\n",
        "record_c = np.ones((A.shape[0], maxiter+1))\n",
        "record_c[:, i] = np.squeeze(c, axis=1)\n",
        "for i in range(1, maxiter+1):\n",
        "    c = np.dot(np.transpose(A), c) # c = A^T c\n",
        "    c = c / np.linalg.norm(c)\n",
        "    record_c[:,i] = np.squeeze(c, axis=1)"
      ],
      "execution_count": 27,
      "outputs": []
    },
    {
      "cell_type": "code",
      "metadata": {
        "trusted": true,
        "id": "btQ4ed_l6VlG",
        "colab": {
          "base_uri": "https://localhost:8080/",
          "height": 913
        },
        "outputId": "4720c108-0124-4dfd-dd69-685c06b2210b"
      },
      "source": [
        "# results\n",
        "print('eigenvector centralities: {}'.format(c))\n",
        "\n",
        "# visualize how the centrality changes\n",
        "plt.figure()\n",
        "plt.plot(np.transpose(record_c))\n",
        "plt.title('Eigenvector Centrality in Each Iteration')\n",
        "plt.xlabel('Iteration')\n",
        "plt.ylabel('Eigenvector Centrality')\n",
        "plt.show()\n",
        "\n",
        "# visualiz the graph with node size reflecting the centrality\n",
        "plt.figure(figsize=(6,6))\n",
        "nx.draw_networkx(G, pos, with_labels=True, node_size=list(c*800), font_size=8, node_color=nodesize)\n",
        "plt.show()"
      ],
      "execution_count": 28,
      "outputs": [
        {
          "output_type": "stream",
          "name": "stdout",
          "text": [
            "eigenvector centralities: [[0.2559327 ]\n",
            " [0.27865895]\n",
            " [0.14527372]\n",
            " [0.06614117]\n",
            " [0.25241708]\n",
            " [0.32370061]\n",
            " [0.14362957]\n",
            " [0.1331308 ]\n",
            " [0.27217739]\n",
            " [0.20269006]\n",
            " [0.31362083]\n",
            " [0.26157012]\n",
            " [0.28656625]\n",
            " [0.16840959]\n",
            " [0.33932053]\n",
            " [0.3419907 ]]\n"
          ]
        },
        {
          "output_type": "display_data",
          "data": {
            "text/plain": [
              "<Figure size 432x288 with 1 Axes>"
            ],
            "image/png": "[encoded data removed]"
          },
          "metadata": {
            "needs_background": "light"
          }
        },
        {
          "output_type": "display_data",
          "data": {
            "text/plain": [
              "<Figure size 432x432 with 1 Axes>"
            ],
            "image/png": "[encoded data removed]"
          },
          "metadata": {}
        }
      ]
    },
    {
      "cell_type": "markdown",
      "metadata": {
        "id": "rVoh1BnU6VlI"
      },
      "source": [
        "## <font color='green'>Exercise 2: Vectorized Version for Katz Centrality</font>\n",
        "Following the above example, please implement the vectorized version for Katz Centrality. The vectorized equation for Katz centrality is\n",
        "\\begin{equation}\n",
        "\\mathbf{c} = \\alpha \\mathbf{A}^T \\mathbf{c} + \\beta \\mathbf{1}\n",
        "\\end{equation}\n",
        "where $\\mathbf{c}$ is a vector of size $N$ with the $i$-th element as the Katz centrality of the $i$-th node in the graph. $\\mathbf{1}$ is an all one vector. We have provided the code to get the all one vector below."
      ]
    },
    {
      "cell_type": "code",
      "metadata": {
        "trusted": true,
        "id": "fEVdAfvh6VlJ"
      },
      "source": [
        "# TODO\n",
        "alpha = 0.85\n",
        "beta = 0.15\n",
        "all_one_vector = np.ones((A.shape[0], 1))"
      ],
      "execution_count": 29,
      "outputs": []
    },
    {
      "cell_type": "markdown",
      "metadata": {
        "id": "TFYPKOHj6VlL"
      },
      "source": [
        "## 2.4 Eigendecomposition for eigenvector centrality\n",
        "Eigenvector centrality is called \"eigenvector\" becasue the scores are actually the eigenvector of the largest eigenvalues of the adjacency matrix. Next we will show how to use eigendecomposition to get the centrality score"
      ]
    },
    {
      "cell_type": "code",
      "metadata": {
        "trusted": true,
        "id": "td7F6ifz6VlL",
        "colab": {
          "base_uri": "https://localhost:8080/"
        },
        "outputId": "7e6a19f6-7ea7-4106-e837-0886e1625d4d"
      },
      "source": [
        "# eigen decomposition of A\n",
        "eigenValues, eigenVectors = np.linalg.eigh(A)\n",
        "\n",
        "# sort the eigenvalues from largest to smallest\n",
        "idx = eigenValues.argsort()[::-1]\n",
        "eigenValues = eigenValues[idx]\n",
        "eigenVectors = eigenVectors[:,idx]\n",
        "print(eigenValues)"
      ],
      "execution_count": 30,
      "outputs": [
        {
          "output_type": "stream",
          "name": "stdout",
          "text": [
            "[11.94903763  4.71745713  4.00945036  2.34246659  1.29210882  0.84385161\n",
            "  0.26388917 -0.3047154  -0.56103915 -1.69079368 -2.00184459 -2.53573353\n",
            " -3.11296371 -4.60215813 -5.07836522 -5.53064788]\n"
          ]
        }
      ]
    },
    {
      "cell_type": "code",
      "metadata": {
        "trusted": true,
        "id": "58_Ac5bg6VlN",
        "colab": {
          "base_uri": "https://localhost:8080/"
        },
        "outputId": "4f729270-817b-49e4-c67b-0c897b81ebcd"
      },
      "source": [
        "# The eigenvector centrality is obtained as the eigenvector corresponding to the largest eigenvalue\n",
        "c_eig = np.transpose(np.squeeze(eigenVectors[:,0], axis=1))\n",
        "print(c_eig)"
      ],
      "execution_count": 31,
      "outputs": [
        {
          "output_type": "stream",
          "name": "stdout",
          "text": [
            "[[0.25593012]\n",
            " [0.27866195]\n",
            " [0.14526482]\n",
            " [0.06613518]\n",
            " [0.25240925]\n",
            " [0.32369758]\n",
            " [0.14363115]\n",
            " [0.13312674]\n",
            " [0.27218106]\n",
            " [0.20269293]\n",
            " [0.31362702]\n",
            " [0.26156113]\n",
            " [0.28656748]\n",
            " [0.16840979]\n",
            " [0.33932951]\n",
            " [0.34199123]]\n"
          ]
        }
      ]
    },
    {
      "cell_type": "markdown",
      "metadata": {
        "id": "rDlrKReM6VlR"
      },
      "source": [
        "## <font color='green'>Exercise 3: Verify that c_eig and c we get in 2.2 are the same</font>\n",
        "To verify this, please calculate the l2 distance of c_eig and c, i.e.\n",
        "\\begin{equation}\n",
        "    \\|c\\_eig - c\\|_2 = \\sqrt{\\sum_{i} (c(i) - c\\_eig(i))^2}\n",
        "\\end{equation}\n",
        "**Hint**: You can do this by calling np.linalg.norm(c - c_eig). Please make sure that c is the eigenvector centrality. You might have reused c for katz centrality."
      ]
    },
    {
      "cell_type": "code",
      "metadata": {
        "trusted": true,
        "id": "d2MgXy0L6VlR"
      },
      "source": [
        "# TODO: Please calcula"
      ],
      "execution_count": null,
      "outputs": []
    },
    {
      "cell_type": "markdown",
      "metadata": {
        "id": "myVv3Y536VlU"
      },
      "source": [
        "Question: Are c_eig and c the same? Why?\n",
        "\n",
        "Answer: ????????????????????"
      ]
    },
    {
      "cell_type": "markdown",
      "metadata": {
        "id": "RX4-JVKr6VlV"
      },
      "source": [
        "# 3. Link Prediction\n",
        "In this part, we will implement the Jaccard Similairy and Cossine for Link Prediction"
      ]
    },
    {
      "cell_type": "markdown",
      "metadata": {
        "id": "cVa4Zyhu6VlW"
      },
      "source": [
        "## 3.1 Basic Operations"
      ]
    },
    {
      "cell_type": "code",
      "metadata": {
        "trusted": true,
        "id": "Pzf9-MfD6VlW",
        "colab": {
          "base_uri": "https://localhost:8080/"
        },
        "outputId": "b6b1545b-9807-4152-8e76-77cce16092e3"
      },
      "source": [
        "# get neighbors of node u and v\n",
        "u = 1 # assume u is node 1\n",
        "v = 2 # assume v is node 2\n",
        "u_neighbors = set(G.neighbors(u))\n",
        "v_neighbors = set(G.neighbors(v))\n",
        "print(u_neighbors)\n",
        "print(v_neighbors)"
      ],
      "execution_count": 32,
      "outputs": [
        {
          "output_type": "stream",
          "name": "stdout",
          "text": [
            "{2, 3, 4, 5, 6, 12, 15, 16}\n",
            "{1, 3, 5, 6, 9, 10, 15, 16}\n"
          ]
        }
      ]
    },
    {
      "cell_type": "code",
      "metadata": {
        "trusted": true,
        "id": "R5N6AuuF6VlZ",
        "colab": {
          "base_uri": "https://localhost:8080/"
        },
        "outputId": "abfa756f-f7cc-4201-f5be-6f63338b0a35"
      },
      "source": [
        "# union of two sets\n",
        "unique_friends = u_neighbors.union(v_neighbors)\n",
        "print(unique_friends)\n",
        "\n",
        "# intersect of \n",
        "common_friends = u_neighbors.intersection(v_neighbors)\n",
        "print(common_friends)"
      ],
      "execution_count": 33,
      "outputs": [
        {
          "output_type": "stream",
          "name": "stdout",
          "text": [
            "{1, 2, 3, 4, 5, 6, 9, 10, 12, 15, 16}\n",
            "{3, 5, 6, 15, 16}\n"
          ]
        }
      ]
    },
    {
      "cell_type": "code",
      "metadata": {
        "trusted": true,
        "id": "sOrJSuPc6Vlb",
        "colab": {
          "base_uri": "https://localhost:8080/"
        },
        "outputId": "e936c870-d12c-4b7b-81bf-70fb56e9fb2c"
      },
      "source": [
        "# number of common_friends\n",
        "len(common_friends)\n",
        "print(len(common_friends))\n",
        "\n",
        "# number of unique_friends\n",
        "len(unique_friends)\n",
        "print(len(unique_friends))"
      ],
      "execution_count": 34,
      "outputs": [
        {
          "output_type": "stream",
          "name": "stdout",
          "text": [
            "5\n",
            "11\n"
          ]
        }
      ]
    },
    {
      "cell_type": "markdown",
      "metadata": {
        "id": "vUD5_9ci6Vle"
      },
      "source": [
        "## <font color='green'>Exercise 4: Jaccard Similarity of Two nodes</font>\n",
        "The jaccard simialrity of two nodes u and v is defined as\n",
        "\\begin{equation}\n",
        "jaccard\\_simialrity(u,v) = \\frac{\\Big| u\\_neighbors \\cap v\\_neighbors \\Big|}{\\Big| u\\_neighbors \\cup v\\_neighbors \\Big|}=\\frac{\\# \\text{ of common friends of u and v}}{\\# \\text{ of unique friends of u and v}}\n",
        "\\end{equation}\n",
        "With the definiton and above code please finish the following code"
      ]
    },
    {
      "cell_type": "code",
      "metadata": {
        "trusted": true,
        "id": "kicZRsUv6Vlf"
      },
      "source": [
        "# TODO: Please calculate the jaccard similarity of node u and v, and return the score\n",
        "def jaccard_similarity(G, u, v):\n",
        "    \"\"\"\n",
        "    This function calculate the jaccard similarity of two nodes u and v based on the graph structure G\n",
        "    :param G: the networkx graph\n",
        "    :param u: node\n",
        "    :param v: node\n",
        "    :return: a scalar, the jaccard simialrity of node u and v\n",
        "    \"\"\"\n",
        "    if u not in G.nodes or v not in G.nodes:\n",
        "        raise ValueError\n",
        "    u_neighbors = set(G.neighbors(u))\n",
        "    v_neighbors = set(G.neighbors(v))\n",
        "    \n",
        "    ## plese calculate the jaccard simialrity ??????????????????????\n",
        "    \n",
        "    # return the similarity\n",
        "    return  ??????????\n",
        "\n",
        "    "
      ],
      "execution_count": null,
      "outputs": []
    },
    {
      "cell_type": "code",
      "metadata": {
        "trusted": true,
        "id": "fKEmzyxh6Vlj",
        "outputId": "71698762-3cc3-41a8-ec5d-763ba2c95158"
      },
      "source": [
        "# call your function to calculate the jaccard similarity of node 1 and 2\n",
        "# if you see 0.45454545454545453, then you answer is correct\n",
        "similarity = jaccard_similarity(G, 1, 2)\n",
        "print(similarity)\n",
        "if similarity == 0.45454545454545453:\n",
        "    print('Correct!')\n",
        "else:\n",
        "    print('Incorrect')"
      ],
      "execution_count": null,
      "outputs": [
        {
          "output_type": "stream",
          "text": [
            "0.45454545454545453\n",
            "Correct!\n"
          ],
          "name": "stdout"
        }
      ]
    },
    {
      "cell_type": "markdown",
      "metadata": {
        "id": "4XXLiYH66Vlm"
      },
      "source": [
        "## <font color='green'>Exercise 5: Cosine </font>\n",
        "The cosine simialrity of two nodes u and v is defined as\n",
        "\\begin{equation}\n",
        "jaccard\\_simialrity(u,v) = \\frac{\\Big|u\\_neighbors \\cap v\\_neighbors \\Big|}{\\sqrt{|u\\_neighbors| \\times |v\\_neighbors|}}=\\frac{\\#\\text{ of common friends of u and v}}{\\sqrt{|u\\_neighbors| \\times |v\\_neighbors|}}\n",
        "\\end{equation}\n",
        "With the definiton and above code please finish the following code"
      ]
    },
    {
      "cell_type": "code",
      "metadata": {
        "trusted": true,
        "id": "NbBYMXQa6Vlm"
      },
      "source": [
        "# TODO: Please calculate the cosine similarity of node u and v, and return the score\n",
        "def cosine_similarity(G, u, v):\n",
        "    \"\"\"\n",
        "    This function calculate the cosine similarity of two nodes u and v based on the graph structure G\n",
        "    :param G: the networkx graph\n",
        "    :param u: node\n",
        "    :param v: node\n",
        "    :return: a scalar, the cosine simialrity of node u and v\n",
        "    \"\"\"\n",
        "    if u not in G.nodes or v not in G.nodes:\n",
        "        raise ValueError\n",
        "    u_neighbors = set(G.neighbors(u))\n",
        "    v_neighbors = set(G.neighbors(v))\n",
        "    ## plese calculate the cosine simialrity ??????????????????????\n",
        "    \n",
        "    # return the cosine similarity\n",
        "    return ???????????????\n",
        "    "
      ],
      "execution_count": null,
      "outputs": []
    },
    {
      "cell_type": "code",
      "metadata": {
        "trusted": true,
        "id": "gPrbWgYh6Vlo",
        "outputId": "8acf8e35-8710-4c72-a9ba-7a3e7f2c4c83"
      },
      "source": [
        "# call your function to calculate the cosine similarity of node 1 and 2\n",
        "similarity = cosine_similarity(G, 1, 2)\n",
        "print(similarity)\n",
        "if similarity == 0.625:\n",
        "    print('Correct!')\n",
        "else:\n",
        "    print('Incorrect')"
      ],
      "execution_count": null,
      "outputs": [
        {
          "output_type": "stream",
          "text": [
            "0.625\n",
            "Correct!\n"
          ],
          "name": "stdout"
        }
      ]
    },
    {
      "cell_type": "markdown",
      "metadata": {
        "id": "RYXlaxrq6Vlq"
      },
      "source": [
        "## <font color='green'>Exercise 6: Link Prediction Example</font>\n",
        "Use jaccard simialrity to recommend top 2 users to node 1"
      ]
    },
    {
      "cell_type": "code",
      "metadata": {
        "trusted": true,
        "id": "CEzymzzS6Vlr"
      },
      "source": [
        "# TODO: \n",
        "user = 1 # the user we want to suggest friends\n",
        "# the set of nodes that are not linked with the user\n",
        "preds = []\n",
        "for node in G.nodes:\n",
        "    if node not in G.neighbors(user) and node != user:\n",
        "        # call your function to calculate the jaccard similarity of user and node\n",
        "        similarity = ???????????????\n",
        "        # store the simialrity to preds\n",
        "        preds.append((user, node, similarity))\n",
        "        \n",
        "\n",
        "# rank based on the jaccard similarity\n",
        "ranked = sorted(preds, key=lambda x: x[2], reverse=True)\n",
        "print(ranked)"
      ],
      "execution_count": null,
      "outputs": []
    },
    {
      "cell_type": "markdown",
      "metadata": {
        "id": "a7YzTUcY6Vls"
      },
      "source": [
        "Question: Which two nodes should we recommende to node 1? Why?\n",
        "\n",
        "Answer: ?????????????"
      ]
    },
    {
      "cell_type": "markdown",
      "source": [
        "# 4. Regular Equivalence (Opitional)"
      ],
      "metadata": {
        "id": "cYFDT8iZ4Xt1"
      }
    },
    {
      "cell_type": "markdown",
      "source": [
        "We will implement the regular equivalence. The basic idea of the (simplified) regular equivalence is $v_i$ and $v_j$ are simialr if $v_j$ is simialr to $v_i$'s neighor $v_k$. This can be mathmatically written as\n",
        "\\begin{equation}\n",
        "\\sigma_r(v_i,v_j) = \\alpha \\sum_{v_k \\in \\mathcal{N}(v_i)} A_{ik} \\cdot \\sigma_r(v_k,v_j)\n",
        "\\end{equation}\n",
        "where $\\sigma_r(v_i,v_j)$ denotes the regular equivalence between $v_i$ and $v_j$ and $\\alpha$ is a scalar to make the equality hold. To solve the above equation, we will first vectorize it. Let $\\sigma_r$ be an $n \\times n$ matrix with its $(i,j)$-th element as the regular equivlance between $v_i$ and $v_j$. Then the above equation can be written as\n",
        "\\begin{equation}\n",
        "\\mathbf{\\sigma}_r = \\alpha\\cdot \\mathbf{A} \\cdot \\mathbf{\\sigma}_r\n",
        "\\end{equation}\n",
        "To guarantee that a node is highly similar to itself, we add the identity matrix to the above equation as\n",
        "\\begin{equation}\n",
        "\\mathbf{\\sigma}_r = \\alpha\\cdot \\mathbf{A} \\cdot \\mathbf{\\sigma}_r + \\mathbf{I}\n",
        "\\end{equation}\n",
        "where $\\mathbf{I}$ is an $n \\times n$ identity matrix. With the above equation,we can get\n",
        "\\begin{equation}\n",
        "\\sigma_r = (\\mathbf{I} -\\alpha \\cdot \\mathbf{A})^{-1}\n",
        "\\end{equation}\n",
        "To make sure that the inverse of $\\mathbf{I} -\\alpha \\cdot \\mathbf{A}$ exist, we will set $\\alpha < \\frac{1}{\\lambda_{max}}$, where $\\lambda_{max}$ is the largest eigenvalue of $\\mathbf{A}$."
      ],
      "metadata": {
        "id": "4ALxHYbs6MAB"
      }
    },
    {
      "cell_type": "code",
      "source": [
        "# obtain adjacency matrix\n",
        "A = nx.adjacency_matrix(G).todense()"
      ],
      "metadata": {
        "id": "PwkVshv84VPT"
      },
      "execution_count": null,
      "outputs": []
    },
    {
      "cell_type": "code",
      "source": [
        "# eigen decomposition of A\n",
        "eigenValues, eigenVectors = np.linalg.eigh(A)\n",
        "\n",
        "# sort the eigenvalues from largest to smallest\n",
        "idx = eigenValues.argsort()[::-1]\n",
        "eigenValues = eigenValues[idx]\n",
        "\n",
        "print(eigenValues)"
      ],
      "metadata": {
        "colab": {
          "base_uri": "https://localhost:8080/"
        },
        "id": "VElZf-Iw9Tne",
        "outputId": "0f94ec29-f00a-481c-b17b-43b37b494193"
      },
      "execution_count": 39,
      "outputs": [
        {
          "output_type": "stream",
          "name": "stdout",
          "text": [
            "[11.94903763  4.71745713  4.00945036  2.34246659  1.29210882  0.84385161\n",
            "  0.26388917 -0.3047154  -0.56103915 -1.69079368 -2.00184459 -2.53573353\n",
            " -3.11296371 -4.60215813 -5.07836522 -5.53064788]\n"
          ]
        }
      ]
    },
    {
      "cell_type": "code",
      "source": [
        "1/eigenValues[0]"
      ],
      "metadata": {
        "colab": {
          "base_uri": "https://localhost:8080/"
        },
        "id": "Jdweh-l09fGI",
        "outputId": "dbfdcd96-7764-4ecb-dff4-40b06cc7c03f"
      },
      "execution_count": 40,
      "outputs": [
        {
          "output_type": "execute_result",
          "data": {
            "text/plain": [
              "0.08368874809618261"
            ]
          },
          "metadata": {},
          "execution_count": 40
        }
      ]
    },
    {
      "cell_type": "code",
      "source": [
        "# set alpha smaller than 1/lambda_max\n",
        "alpha= 0.05\n",
        "P = np.linalg.pinv(np.identity(A.shape[0]) - alpha*A) # (I - alpha* A)^-1\n",
        "print(P)\n",
        "plt.matshow(P)"
      ],
      "metadata": {
        "colab": {
          "base_uri": "https://localhost:8080/",
          "height": 1000
        },
        "id": "tJ-7TYNI9XKG",
        "outputId": "ad9e7c13-7bfc-4c4d-e029-1353140d8a63"
      },
      "execution_count": 44,
      "outputs": [
        {
          "output_type": "stream",
          "name": "stdout",
          "text": [
            "[[1.09178426 0.12259656 0.13954241 0.11806138 0.15336073 0.16748523\n",
            "  0.03842339 0.0381166  0.05919804 0.03594417 0.05994796 0.15355166\n",
            "  0.05646318 0.04265995 0.11906658 0.13001924]\n",
            " [0.12259656 1.09710873 0.13491854 0.0204229  0.15972124 0.17496782\n",
            "  0.03522307 0.0283464  0.16722802 0.14295864 0.07884175 0.05738597\n",
            "  0.0702796  0.03258402 0.13488216 0.12510741]\n",
            " [0.13954241 0.13491854 1.04274909 0.06954753 0.04103331 0.10004012\n",
            "  0.06735558 0.06911673 0.03457161 0.02309001 0.02978344 0.03666474\n",
            "  0.02772407 0.018097   0.03505026 0.04080983]\n",
            " [0.11806138 0.0204229  0.06954753 1.01823337 0.01867207 0.02599574\n",
            "  0.01075586 0.05899711 0.00897908 0.00561415 0.01148818 0.02156382\n",
            "  0.00885274 0.01117884 0.01531447 0.01746508]\n",
            " [0.15336073 0.15972124 0.04103331 0.01867207 1.07793653 0.07892614\n",
            "  0.07121743 0.02568666 0.10685526 0.04800818 0.06767153 0.06940602\n",
            "  0.0636885  0.08340334 0.16741711 0.16812816]\n",
            " [0.16748523 0.17496782 0.10004012 0.02599574 0.07892614 1.11432029\n",
            "  0.09067608 0.08490428 0.16850891 0.05862478 0.13974183 0.12257075\n",
            "  0.17301829 0.05237034 0.10077453 0.19025614]\n",
            " [0.03842339 0.03522307 0.06735558 0.01075586 0.07121743 0.09067608\n",
            "  1.02747181 0.07091485 0.03447813 0.02245101 0.08677508 0.07977667\n",
            "  0.08272046 0.02774293 0.04391264 0.04976882]\n",
            " [0.0381166  0.0283464  0.06911673 0.05899711 0.02568666 0.08490428\n",
            "  0.07091485 1.03459227 0.02661387 0.01730458 0.0800842  0.08750836\n",
            "  0.03640444 0.12015994 0.03310602 0.04845324]\n",
            " [0.05919804 0.16722802 0.03457161 0.00897908 0.10685526 0.16850891\n",
            "  0.03447813 0.02661387 1.08623669 0.11271892 0.1733198  0.05566171\n",
            "  0.12403147 0.02837913 0.1815073  0.0860723 ]\n",
            " [0.03594417 0.14295864 0.02309001 0.00561415 0.04800818 0.05862478\n",
            "  0.02245101 0.01730458 0.11271892 1.05723046 0.1567886  0.04068326\n",
            "  0.10452076 0.01941989 0.16393749 0.05994656]\n",
            " [0.05994796 0.07884175 0.02978344 0.01148818 0.06767153 0.13974183\n",
            "  0.08677508 0.0800842  0.1733198  0.1567886  1.11125348 0.12023551\n",
            "  0.18673152 0.05120327 0.1977651  0.18451146]\n",
            " [0.15355166 0.05738597 0.03666474 0.02156382 0.06940602 0.12257075\n",
            "  0.07977667 0.08750836 0.05566171 0.04068326 0.12023551 1.08452094\n",
            "  0.07462705 0.14241738 0.16406673 0.18012798]\n",
            " [0.05646318 0.0702796  0.02772407 0.00885274 0.0636885  0.17301829\n",
            "  0.08272046 0.03640444 0.12403147 0.10452076 0.18673152 0.07462705\n",
            "  1.09221525 0.08720729 0.18007307 0.18308958]\n",
            " [0.04265995 0.03258402 0.018097   0.01117884 0.08340334 0.05237034\n",
            "  0.02774293 0.12015994 0.02837913 0.01941989 0.05120327 0.14241738\n",
            "  0.08720729 1.05009454 0.05261836 0.15306273]\n",
            " [0.11906658 0.13488216 0.03505026 0.01531447 0.16741711 0.10077453\n",
            "  0.04391264 0.03310602 0.1815073  0.16393749 0.1977651  0.16406673\n",
            "  0.18007307 0.05261836 1.12593741 0.1552658 ]\n",
            " [0.13001924 0.12510741 0.04080983 0.01746508 0.16812816 0.19025614\n",
            "  0.04976882 0.04845324 0.0860723  0.05994656 0.18451146 0.18012798\n",
            "  0.18308958 0.15306273 0.1552658  1.12643723]]\n"
          ]
        },
        {
          "output_type": "execute_result",
          "data": {
            "text/plain": [
              "<matplotlib.image.AxesImage at 0x7fe0dd8c2a10>"
            ]
          },
          "metadata": {},
          "execution_count": 44
        },
        {
          "output_type": "display_data",
          "data": {
            "text/plain": [
              "<Figure size 288x288 with 1 Axes>"
            ],
            "image/png": "[encoded data removed]"
          },
          "metadata": {
            "needs_background": "light"
          }
        }
      ]
    },
    {
      "cell_type": "markdown",
      "source": [
        "## <font color='green'>Exercise 7 (Optional)</font>\n",
        "Run experiments $\\alpha > \\frac{1}{\\lambda_{max}}$. Does the results make sense? Why?"
      ],
      "metadata": {
        "id": "m-w5jJyI9wSV"
      }
    },
    {
      "cell_type": "code",
      "source": [
        "alpha= 0.1\n",
        "P = np.linalg.pinv(np.identity(A.shape[0]) - alpha*A) # (I - alpha* A)^-1\n",
        "print(P)"
      ],
      "metadata": {
        "colab": {
          "base_uri": "https://localhost:8080/"
        },
        "id": "zvLB35ZNLfCg",
        "outputId": "20dd8738-be28-4a86-de8d-cedf92702b0f"
      },
      "execution_count": 45,
      "outputs": [
        {
          "output_type": "stream",
          "name": "stdout",
          "text": [
            "[[ 0.67080877 -0.38041017 -0.01823044  0.11119249 -0.27295287 -0.41668453\n",
            "  -0.24614737 -0.21146217 -0.53600091 -0.43542619 -0.65276345 -0.30091541\n",
            "  -0.58846481 -0.29553651 -0.58172448 -0.5345961 ]\n",
            " [-0.38041017  0.54850122 -0.08474895 -0.11431396 -0.31636002 -0.47316394\n",
            "  -0.29862343 -0.29757028 -0.34624185 -0.23145204 -0.64520192 -0.57239259\n",
            "  -0.5967966  -0.39362898 -0.58904027 -0.64160373]\n",
            " [-0.01823044 -0.08474895  0.96010513  0.08982834 -0.23255563 -0.20561043\n",
            "  -0.05184699 -0.02536082 -0.3008591  -0.24233397 -0.3921361  -0.26716959\n",
            "  -0.35574245 -0.1933893  -0.40648401 -0.38026704]\n",
            " [ 0.11119249 -0.11431396  0.08982834  1.03627733 -0.1040244  -0.12605535\n",
            "  -0.05625558  0.05055995 -0.16749827 -0.13512235 -0.19344037 -0.09861247\n",
            "  -0.18081148 -0.07307118 -0.19370256 -0.17488545]\n",
            " [-0.27295287 -0.31636002 -0.23255563 -0.1040244   0.61341093 -0.57660665\n",
            "  -0.20451684 -0.2617826  -0.41979061 -0.37071766 -0.59897526 -0.44774459\n",
            "  -0.54091464 -0.22670134 -0.45790042 -0.46022764]\n",
            " [-0.41668453 -0.47316394 -0.20561043 -0.12605535 -0.57660665  0.31023148\n",
            "  -0.23900957 -0.22157397 -0.48082646 -0.48481339 -0.65209703 -0.52894772\n",
            "  -0.5154914  -0.38712553 -0.80064707 -0.63905692]\n",
            " [-0.24614737 -0.29862343 -0.05184699 -0.05625558 -0.20451684 -0.23900957\n",
            "   0.88475089 -0.01841405 -0.29365903 -0.2316103  -0.24315218 -0.18039542\n",
            "  -0.21515607 -0.1491158  -0.36186836 -0.33693309]\n",
            " [-0.21146217 -0.29757028 -0.02536082  0.05055995 -0.2617826  -0.22157397\n",
            "  -0.01841405  0.95388471 -0.30212177 -0.23803717 -0.23674069 -0.11712432\n",
            "  -0.27544276  0.05375049 -0.36709263 -0.29939528]\n",
            " [-0.53600091 -0.34624185 -0.3008591  -0.16749827 -0.41979061 -0.48082646\n",
            "  -0.29365903 -0.30212177  0.54722017 -0.23628497 -0.42051262 -0.56524138\n",
            "  -0.44723837 -0.3963104  -0.46466127 -0.68067437]\n",
            " [-0.43542619 -0.23145204 -0.24233397 -0.13512235 -0.37071766 -0.48481339\n",
            "  -0.2316103  -0.23803717 -0.23628497  0.79465544 -0.24749723 -0.42836501\n",
            "  -0.3043386  -0.30531473 -0.27746176 -0.52264333]\n",
            " [-0.65276345 -0.64520192 -0.3921361  -0.19344037 -0.59897526 -0.65209703\n",
            "  -0.24315218 -0.23674069 -0.42051262 -0.24749723  0.38261368 -0.51615787\n",
            "  -0.41802858 -0.37651849 -0.55562731 -0.62119198]\n",
            " [-0.30091541 -0.57239259 -0.26716959 -0.09861247 -0.44774459 -0.52894772\n",
            "  -0.18039542 -0.11712432 -0.56524138 -0.42836501 -0.51615787  0.59813054\n",
            "  -0.52494061 -0.08904533 -0.50818361 -0.43989028]\n",
            " [-0.58846481 -0.5967966  -0.35574245 -0.18081148 -0.54091464 -0.5154914\n",
            "  -0.21515607 -0.27544276 -0.44723837 -0.3043386  -0.41802858 -0.52494061\n",
            "   0.47899979 -0.27212852 -0.52274852 -0.52930179]\n",
            " [-0.29553651 -0.39362898 -0.1933893  -0.07307118 -0.22670134 -0.38712553\n",
            "  -0.1491158   0.05375049 -0.3963104  -0.30531473 -0.37651849 -0.08904533\n",
            "  -0.27212852  0.90288524 -0.42220671 -0.20086401]\n",
            " [-0.58172448 -0.58904027 -0.40648401 -0.19370256 -0.45790042 -0.80064707\n",
            "  -0.36186836 -0.36709263 -0.46466127 -0.27746176 -0.55562731 -0.50818361\n",
            "  -0.52274852 -0.42220671  0.25106366 -0.74543284]\n",
            " [-0.5345961  -0.64160373 -0.38026704 -0.17488545 -0.46022764 -0.63905692\n",
            "  -0.33693309 -0.29939528 -0.68067437 -0.52264333 -0.62119198 -0.43989028\n",
            "  -0.52930179 -0.20086401 -0.74543284  0.22973021]]\n"
          ]
        }
      ]
    },
    {
      "cell_type": "markdown",
      "source": [
        "Your Answer Here: ????????????????"
      ],
      "metadata": {
        "id": "lNNNHuXnMaG7"
      }
    },
    {
      "cell_type": "markdown",
      "source": [
        "## <font color='green'>Exercise 8 Approximating $(\\mathbf{I} - \\alpha \\cdot \\mathbf{A})^{-1}$ (Optional)</font>\n",
        "\n",
        "In the class, we showed that $(\\mathbf{I} - \\alpha \\cdot \\mathbf{A})^{-1}=\\sum_{k=0}^{\\infty} \\alpha^k \\mathbf{A}^k$. Thus, we can approximate $(\\mathbf{I} - \\alpha \\cdot \\mathbf{A})^{-1}$ as $(\\mathbf{I} - \\alpha \\cdot \\mathbf{A})^{-1}=\\sum_{k=0}^{K} \\alpha^k \\mathbf{A}^k$, where $K$ is a large number. Please understand the code below, explore the results of different choices of $K$ and compare with $\\mathbf{P}$ calculated directly using $(\\mathbf{I} - \\alpha \\cdot \\mathbf{A})^{-1}$"
      ],
      "metadata": {
        "id": "hvKQvzt6NhxM"
      }
    },
    {
      "cell_type": "code",
      "source": [
        "Pa = 0\n",
        "K = 10\n",
        "alpha = 0.05\n",
        "tmp = np.eye(A.shape[0])\n",
        "for i in range(0,K):\n",
        "  Pa = Pa + tmp\n",
        "  tmp = tmp * alpha * A\n",
        "print(Pa)"
      ],
      "metadata": {
        "colab": {
          "base_uri": "https://localhost:8080/"
        },
        "id": "u7bzzd7TMkkV",
        "outputId": "44a79cde-7f16-41e4-a1bd-4f9af8860d9e"
      },
      "execution_count": 50,
      "outputs": [
        {
          "output_type": "stream",
          "name": "stdout",
          "text": [
            "[[1.09084091 0.12156976 0.1390073  0.11781775 0.15243119 0.16629291\n",
            "  0.037894   0.03762596 0.05819525 0.03519761 0.05879272 0.15258827\n",
            "  0.05540757 0.04203941 0.11781638 0.12875904]\n",
            " [0.12156976 1.09599074 0.13433592 0.02015764 0.15870891 0.17366946\n",
            "  0.03464684 0.02781237 0.16613621 0.14214567 0.07758366 0.05633689\n",
            "  0.06913011 0.03190844 0.13352093 0.12373555]\n",
            " [0.1390073  0.13433592 1.04244513 0.06940911 0.04050526 0.0993631\n",
            "  0.06705532 0.06883833 0.03400253 0.02266616 0.02912769 0.0361176\n",
            "  0.02712486 0.01774487 0.03434085 0.04009479]\n",
            " [0.11781775 0.02015764 0.06940911 1.0181703  0.01843163 0.02568745\n",
            "  0.01061917 0.05887037 0.00872007 0.00542123 0.01118962 0.0213147\n",
            "  0.00857998 0.01101847 0.01499151 0.01713959]\n",
            " [0.15243119 0.15870891 0.04050526 0.01843163 1.07701891 0.07774976\n",
            "  0.07069582 0.02520304 0.10586643 0.04727161 0.06653192 0.06845525\n",
            "  0.06264715 0.08279154 0.16618446 0.16688586]\n",
            " [0.16629291 0.17366946 0.0993631  0.02568745 0.07774976 1.11281166\n",
            "  0.09000692 0.08428409 0.16724084 0.05768031 0.13828035 0.12135187\n",
            "  0.17168308 0.05158552 0.09919336 0.18866281]\n",
            " [0.037894   0.03464684 0.06705532 0.01061917 0.07069582 0.09000692\n",
            "  1.02717468 0.07063953 0.03391535 0.02203201 0.08612671 0.07923608\n",
            "  0.08212807 0.02739464 0.04321092 0.04906155]\n",
            " [0.03762596 0.02781237 0.06883833 0.05887037 0.02520304 0.08428409\n",
            "  0.07063953 1.03433702 0.02609223 0.0169162  0.07948331 0.0870071\n",
            "  0.03585527 0.11983722 0.03245582 0.04779772]\n",
            " [0.05819525 0.16613621 0.03400253 0.00872007 0.10586643 0.16724084\n",
            "  0.03391535 0.02609223 1.08517006 0.11192464 0.17209107 0.05463698\n",
            "  0.1229086  0.02771943 0.18017779 0.08473221]\n",
            " [0.03519761 0.14214567 0.02266616 0.00542123 0.04727161 0.05768031\n",
            "  0.02203201 0.0169162  0.11192464 1.05663888 0.15587349 0.03992004\n",
            "  0.10368453 0.01892864 0.16294742 0.05894873]\n",
            " [0.05879272 0.07758366 0.02912769 0.01118962 0.06653192 0.13828035\n",
            "  0.08612671 0.07948331 0.17209107 0.15587349 1.10983735 0.11905465\n",
            "  0.18543772 0.05044292 0.19623308 0.18296766]\n",
            " [0.15258827 0.05633689 0.0361176  0.0213147  0.06845525 0.12135187\n",
            "  0.07923608 0.0870071  0.05463698 0.03992004 0.11905465 1.08353571\n",
            "  0.0735479  0.1417834  0.16278942 0.17884052]\n",
            " [0.05540757 0.06913011 0.02712486 0.00857998 0.06264715 0.17168308\n",
            "  0.08212807 0.03585527 0.1229086  0.10368453 0.18543772 0.0735479\n",
            "  1.09103291 0.08651273 0.17867345 0.18167889]\n",
            " [0.04203941 0.03190844 0.01774487 0.01101847 0.08279154 0.05158552\n",
            "  0.02739464 0.11983722 0.02771943 0.01892864 0.05044292 0.1417834\n",
            "  0.08651273 1.04968608 0.0517956  0.15223365]\n",
            " [0.11781638 0.13352093 0.03434085 0.01499151 0.16618446 0.09919336\n",
            "  0.04321092 0.03245582 0.18017779 0.16294742 0.19623308 0.16278942\n",
            "  0.17867345 0.0517956  1.12427958 0.15359521]\n",
            " [0.12875904 0.12373555 0.04009479 0.01713959 0.16688586 0.18866281\n",
            "  0.04906155 0.04779772 0.08473221 0.05894873 0.18296766 0.17884052\n",
            "  0.18167889 0.15223365 0.15359521 1.12475331]]\n"
          ]
        }
      ]
    }
  ]
}