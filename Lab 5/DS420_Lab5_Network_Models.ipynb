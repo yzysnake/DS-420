{
  "nbformat": 4,
  "nbformat_minor": 0,
  "metadata": {
    "kernelspec": {
      "name": "python36",
      "display_name": "Python 3.6",
      "language": "python"
    },
    "language_info": {
      "mimetype": "text/x-python",
      "nbconvert_exporter": "python",
      "name": "python",
      "pygments_lexer": "ipython3",
      "version": "3.6.6",
      "file_extension": ".py",
      "codemirror_mode": {
        "version": 3,
        "name": "ipython"
      }
    },
    "colab": {
      "provenance": [],
      "collapsed_sections": []
    }
  },
  "cells": [
    {
      "cell_type": "markdown",
      "metadata": {
        "collapsed": true,
        "id": "y7V9vdnkoTEl"
      },
      "source": [
        "# Lab 5 Network Models\n",
        "## Due: Midnight, October 16th\n",
        "In this lab, we will\n",
        "1. **explore the properties of real-world social networks**\n",
        "2. **learn how to simulate random graph, small world model graph and preferrential attachment model graph**\n",
        "3. **explore the properties of the simulated graphs**\n",
        "4. **extend the preferrential attachment model to powerlaw cluster graph**\n",
        "\n",
        "\n",
        "## Save Your Notebook! \n",
        "- Click on File (upper left corner), Select “Save” or press Ctrl+S.\n",
        "- Important: You may loose your modification to a notebook if you do not Save it explicitly.\n",
        "- Advice: Save often.  \n",
        "\n",
        "\n",
        "## Submission\n",
        "- Please follow the instructions and finish the exercises.\n",
        "- After you finish the lab, please Click on File, Select “Download .ipynb”\n",
        "- After download is complete, Click on File, Select “Print”, and and Choose ``Save as PDF''\n",
        "- Submit both the Notebook file and the PDF File as your submission for Lab 5\n",
        "- Please also submit the report for Lab 5"
      ]
    },
    {
      "cell_type": "markdown",
      "metadata": {
        "id": "owpp_CsxoTEm"
      },
      "source": [
        "# 1. Propertities of Real World Social Networks\n",
        "In the class, we discussed three key measurements of real-world social networks, including degree distribution, clustering coefficients and average shortest path length. Since it takes a long time to calcualte average shortest path length for large graphs, in this lab, we will mainly focus on degree distribution and clustering coefficients."
      ]
    },
    {
      "cell_type": "markdown",
      "metadata": {
        "id": "Ow-eO5znoTEr"
      },
      "source": [
        "## 1.1 Load the graph\n",
        "Please download the file **RO_edges.csv** from Canvas and upload to DS420 in Google Drive. The file contains the edgelist of a Friendships network of users from a European country on music streaming service Deezer. Each line of the file is one edge of the network in the format of *Source_node,Target_node*. It is time consuing to visualize a large graph. Thus, we will not visualize it."
      ]
    },
    {
      "cell_type": "code",
      "metadata": {
        "id": "oRC2XzxerVWq",
        "colab": {
          "base_uri": "https://localhost:8080/"
        },
        "outputId": "6c75d58f-41fc-4b05-f9d2-cc67f285ecb9"
      },
      "source": [
        "import networkx as nx\n",
        "import matplotlib.pyplot as plt\n",
        "import collections\n",
        "\n",
        "# The following code will mount the drive\n",
        "from google.colab import drive\n",
        "drive.mount('/content/gdrive')"
      ],
      "execution_count": 1,
      "outputs": [
        {
          "output_type": "stream",
          "name": "stdout",
          "text": [
            "Mounted at /content/gdrive\n"
          ]
        }
      ]
    },
    {
      "cell_type": "code",
      "metadata": {
        "trusted": true,
        "id": "5g4JJHxHoTEs",
        "colab": {
          "base_uri": "https://localhost:8080/"
        },
        "outputId": "5ebeb275-4426-4dbf-db06-6284bc342ac5"
      },
      "source": [
        "# load the graph\n",
        "G = nx.read_edgelist(path=\"/content/gdrive/My Drive/DS420/RO_edges.csv\", delimiter=',', nodetype=int)\n",
        "num_edges = G.number_of_edges()\n",
        "num_nodes = G.number_of_nodes()\n",
        "print('number of nodes: {}, number of edges: {}'.format(num_nodes, num_edges))"
      ],
      "execution_count": 11,
      "outputs": [
        {
          "output_type": "stream",
          "name": "stdout",
          "text": [
            "number of nodes: 41773, number of edges: 125826\n"
          ]
        }
      ]
    },
    {
      "cell_type": "markdown",
      "metadata": {
        "id": "kokiEul5oTEv"
      },
      "source": [
        "## 1.2 Degree Distribtuion"
      ]
    },
    {
      "cell_type": "code",
      "metadata": {
        "trusted": true,
        "id": "uzj1mpz6oTEw"
      },
      "source": [
        "def plot_degree_histogram(G, title_of_figure):\n",
        "    \"\"\"\n",
        "    This function plot the degree histogram of a graph G\n",
        "    :param G: the input graph\n",
        "    :param title_of_figure: the title of the figure\n",
        "    :return: \n",
        "    \"\"\"\n",
        "    degree_sequence = sorted([d for n, d in G.degree()], reverse=True)  # degree sequence\n",
        "    degreeCount = collections.Counter(degree_sequence)\n",
        "    deg, cnt = zip(*degreeCount.items())\n",
        "    fig, ax = plt.subplots()\n",
        "    plt.bar(deg, cnt, width=0.80, color='b')\n",
        "    plt.title(\"Degree Histogram of \"+title_of_figure)\n",
        "    plt.ylabel(\"Count\")\n",
        "    plt.xlabel(\"Degree\")\n",
        "    #ax.set_xticks([d + 0.4 for d in deg])\n",
        "    #ax.set_xticklabels(deg)\n",
        "    plt.show(block=False)\n",
        "\n",
        "    ## log-log scale\n",
        "    fig, ax = plt.subplots()\n",
        "    plt.loglog(deg, cnt,'ro-')\n",
        "    plt.title(\"Log-Log Degree Histogram of \"+title_of_figure)\n",
        "    plt.ylabel(\"Log(Count)\")\n",
        "    plt.xlabel(\"Log(Degree)\")\n",
        "    plt.show(block=False)"
      ],
      "execution_count": 12,
      "outputs": []
    },
    {
      "cell_type": "code",
      "metadata": {
        "id": "01AiD5QTvKpC",
        "colab": {
          "base_uri": "https://localhost:8080/",
          "height": 577
        },
        "outputId": "e5356fe7-8810-408b-96ed-ac9308b7cc2c"
      },
      "source": [
        "# Call the above function to draw degree histogram\n",
        "plot_degree_histogram(G, 'real-world graph')"
      ],
      "execution_count": 13,
      "outputs": [
        {
          "output_type": "display_data",
          "data": {
            "text/plain": [
              "<Figure size 432x288 with 1 Axes>"
            ],
            "image/png": "[encoded data removed]"
          },
          "metadata": {
            "needs_background": "light"
          }
        },
        {
          "output_type": "display_data",
          "data": {
            "text/plain": [
              "<Figure size 432x288 with 1 Axes>"
            ],
            "image/png": "[encoded data removed]"
          },
          "metadata": {
            "needs_background": "light"
          }
        }
      ]
    },
    {
      "cell_type": "markdown",
      "metadata": {
        "id": "qC9ThAcMYCZj"
      },
      "source": [
        "Fit the distribution using power function and straight line"
      ]
    },
    {
      "cell_type": "code",
      "metadata": {
        "colab": {
          "base_uri": "https://localhost:8080/",
          "height": 582
        },
        "id": "_fd4ENhmViF0",
        "outputId": "4e293f6b-6fe0-459f-d2c8-badfabd2a44b"
      },
      "source": [
        "import numpy as np\n",
        "from scipy.optimize import curve_fit\n",
        "\n",
        "def powlaw(x, a, b) :\n",
        "    return a * np.power(x, b)\n",
        "\n",
        "def linlaw(x, a, b):\n",
        "    return a + x * b\n",
        "\n",
        "\n",
        "# get deg and count\n",
        "degree_sequence = sorted([d for n, d in G.degree()], reverse=True)  # degree sequence\n",
        "degreeCount = collections.Counter(degree_sequence)\n",
        "deg, cnt = zip(*degreeCount.items())\n",
        "\n",
        "# fit the power function\n",
        "popt, pcov = curve_fit(powlaw, deg, cnt)\n",
        "print(popt)\n",
        "\n",
        "fig, ax = plt.subplots()\n",
        "plt.plot(deg, powlaw(deg, *popt), '--', color='g')\n",
        "plt.bar(deg, cnt, width=0.80, color='b')\n",
        "plt.legend(['power function','degree distribution'])\n",
        "plt.show()\n",
        "\n",
        "# fit the linear funciton in log-log scale\n",
        "popt_log, pcov_log = curve_fit(linlaw, np.log10(deg), np.log10(cnt))\n",
        "print(popt_log)\n",
        "\n",
        "plt.plot(np.log10(deg), linlaw(np.log10(deg), *popt_log), '--')\n",
        "plt.plot(np.log10(deg), np.log10(cnt), 'ro')\n",
        "plt.legend(['linear function', 'log-log scale degree distribution'])\n",
        "plt.show()\n"
      ],
      "execution_count": 14,
      "outputs": [
        {
          "output_type": "stream",
          "name": "stderr",
          "text": [
            "/usr/local/lib/python3.7/dist-packages/ipykernel_launcher.py:5: RuntimeWarning: overflow encountered in power\n",
            "  \"\"\"\n"
          ]
        },
        {
          "output_type": "stream",
          "name": "stdout",
          "text": [
            "[ 7.54709456e+03 -7.97943487e-01]\n"
          ]
        },
        {
          "output_type": "display_data",
          "data": {
            "text/plain": [
              "<Figure size 432x288 with 1 Axes>"
            ],
            "image/png": "[encoded data removed]"
          },
          "metadata": {
            "needs_background": "light"
          }
        },
        {
          "output_type": "stream",
          "name": "stdout",
          "text": [
            "[ 5.47202262 -2.78855987]\n"
          ]
        },
        {
          "output_type": "display_data",
          "data": {
            "text/plain": [
              "<Figure size 432x288 with 1 Axes>"
            ],
            "image/png": "[encoded data removed]"
          },
          "metadata": {
            "needs_background": "light"
          }
        }
      ]
    },
    {
      "cell_type": "markdown",
      "metadata": {
        "id": "phZ1R9AcoTEz"
      },
      "source": [
        "## 1.3 Average Clustering Coefficients\n",
        "We can call average_clustering function to calculate the average local clustering of a network. For more details, please refer to: https://networkx.github.io/documentation/stable/reference/algorithms/generated/networkx.algorithms.cluster.average_clustering.html"
      ]
    },
    {
      "cell_type": "code",
      "metadata": {
        "trusted": true,
        "id": "bnUutiysoTE0",
        "colab": {
          "base_uri": "https://localhost:8080/"
        },
        "outputId": "d8fa4c5e-aa22-46b5-ddb3-7987db16e1c2"
      },
      "source": [
        "print('average clustering coefficients is {}'.format(nx.average_clustering(G)))"
      ],
      "execution_count": null,
      "outputs": [
        {
          "output_type": "stream",
          "name": "stdout",
          "text": [
            "average clustering coefficients is 0.0912123373083256\n"
          ]
        }
      ]
    },
    {
      "cell_type": "markdown",
      "metadata": {
        "id": "ovHKn2ThoTE2"
      },
      "source": [
        "# 2. Random Graph\n",
        "We will gerante a random graph with the same number of nodes and similar number of edges with the real-world graphd and analyze its degree distribution and clustering coefficients."
      ]
    },
    {
      "cell_type": "markdown",
      "metadata": {
        "id": "xBbREyPnoTE3"
      },
      "source": [
        "## 2.1 Generate a Random Graph\n",
        "Assume the real-world graph has n nodes and m edges. To simulate a random graph of n nodes and approximately m edges with G(n,p) model, we set\n",
        "\\begin{equation}\n",
        "    p = \\frac{m}{n \\choose 2}\n",
        "\\end{equation}\n",
        "where ${n \\choose 2} = \\frac{n\\cdot (n-1)}{2}$. With p defined above, we can use the nx.fast_gnp_random_graph(n, p) to generate a random graph with n nodes and approximately m edges. For details of fast_gnp_random_graph(n, p, seed=None, directed=False), please visit: https://pelegm-networkx.readthedocs.io/en/latest/reference/generated/networkx.generators.random_graphs.fast_gnp_random_graph.html"
      ]
    },
    {
      "cell_type": "markdown",
      "metadata": {
        "id": "6FveIiWQw0n8"
      },
      "source": [
        "## <font color='green'>Exercise 1</font>\n",
        "Please generate a random graph with the same number of nodes and approxmatly the same number of edges as the real-graph in Section 1.1."
      ]
    },
    {
      "cell_type": "code",
      "metadata": {
        "trusted": true,
        "id": "cixRXRDUoTE4"
      },
      "source": [
        "# TODO: please fill in following code\n",
        "p = ??????????????????? # probability of forming an edge, use the above equation to calculate\n",
        "gnp_graph = nx.fast_gnp_random_graph(n=?????, p=p)\n",
        "print('number of nodes: {}, number of edges: {}'.format(gnp_graph.number_of_nodes(), gnp_graph.number_of_edges()))"
      ],
      "execution_count": null,
      "outputs": []
    },
    {
      "cell_type": "markdown",
      "metadata": {
        "id": "27dNNMHooTE7"
      },
      "source": [
        "## 2.2 Degree Distribution of Random Graph\n",
        "\n",
        "## <font color='green'>Exercise 2</font>\n",
        "Please call plot_degree_histogram to calculate the degree distribution"
      ]
    },
    {
      "cell_type": "code",
      "metadata": {
        "trusted": true,
        "id": "ocz8McOMoTE7"
      },
      "source": [
        "# TODO: call the function to plot the degree distribution\n",
        "plot_degree_histogram(G=??????, 'Random Graph')"
      ],
      "execution_count": null,
      "outputs": []
    },
    {
      "cell_type": "markdown",
      "metadata": {
        "id": "xpvaqLe5oTE-"
      },
      "source": [
        "## 2.3 Clustering Coefficients"
      ]
    },
    {
      "cell_type": "code",
      "metadata": {
        "trusted": true,
        "id": "9343EkGAoTE-"
      },
      "source": [
        "print('average clustering coefficients is {}'.format(nx.average_clustering(gnp_graph)))"
      ],
      "execution_count": null,
      "outputs": []
    },
    {
      "cell_type": "markdown",
      "metadata": {
        "id": "Mw8zlOxUoTFB"
      },
      "source": [
        "# Small-World Model\n",
        "We will gerante a small world model with the same number of nodes, similar number of edges and similar clustering coefficients as the real-world graph in Section 1.1. We will then visualize its degree distribution and calculate its clustering coefficients. The function we use is nx.watts_strogatz_graph(n, k, p), where \n",
        "- n: The number of nodes,\n",
        "- k: Each node is connected to k nearest neighbors in ring topology (degree of the lattice), \n",
        "- p: The probability of rewiring each edge \n",
        "\n",
        "For more details, please refer to:  in https://networkx.github.io/documentation/networkx-1.9/reference/generated/networkx.generators.random_graphs.watts_strogatz_graph.html."
      ]
    },
    {
      "cell_type": "markdown",
      "metadata": {
        "id": "HJ6sFuDRxTtF"
      },
      "source": [
        "## <font color='green'>Exercise 3</font>\n",
        "Please fill in the following code to generate a small world model with the same number of nodes, similar number of edges and similar clustering coefficients with the real-world graph in Section 1.1. \n",
        "\n",
        "Obviously, we should set *n* as the number of nodes of the real graph in Section 1.1. \n",
        "\n",
        "*k* should be an integer close to the average degree of the real-world graph. \n",
        "\n",
        "For simplicity, we set *p = 0.45*"
      ]
    },
    {
      "cell_type": "code",
      "metadata": {
        "trusted": true,
        "id": "CKOyRLmjoTFB"
      },
      "source": [
        "# TODO: please fill in the following codes\n",
        "average_degree = ??????? \n",
        "small_world = nx.watts_strogatz_graph(n=????????, k=round(average_degree), p=0.45)\n",
        "print('number of nodes: {}, number of edges: {}'.format(small_world.number_of_nodes(), small_world.number_of_edges()))"
      ],
      "execution_count": null,
      "outputs": []
    },
    {
      "cell_type": "markdown",
      "metadata": {
        "id": "8WOHIzvOoTFE"
      },
      "source": [
        "## <font color='green'>Exercise 4: Degree Distribution of Small World Model</font>"
      ]
    },
    {
      "cell_type": "code",
      "metadata": {
        "trusted": true,
        "id": "G1T8F5RGoTFE"
      },
      "source": [
        "# TODO: Please fill in the following codes\n",
        "plot_degree_histogram(G=????, 'small world model')"
      ],
      "execution_count": null,
      "outputs": []
    },
    {
      "cell_type": "markdown",
      "metadata": {
        "id": "4aD-psxooTFH"
      },
      "source": [
        "## <font color='green'>Exervise 5: Clustering Coefficients of Small World Model</font>"
      ]
    },
    {
      "cell_type": "code",
      "metadata": {
        "trusted": true,
        "id": "xrAWoPByoTFJ"
      },
      "source": [
        "# TODO: please calcualte the average clustering coefficient of the small world model\n",
        "print('average clustering coefficients is {}'.format(????????????????))"
      ],
      "execution_count": null,
      "outputs": []
    },
    {
      "cell_type": "markdown",
      "metadata": {
        "id": "Z9zXgvUooTFM"
      },
      "source": [
        "# 4 Preferrential Attachment Model\n",
        "We will generate a scale-free graph with the same number of nodes and simialr number of edges with the real-world graph. We will then analyze its degree distribution."
      ]
    },
    {
      "cell_type": "markdown",
      "metadata": {
        "id": "g28LBUinoTFM"
      },
      "source": [
        "## 4.1 Generate Scale-Free Graph with Preferrential Attachment Model\n",
        "We can call barabasi_albert_graph(n, m, seed=None) to generate a scale-free graph, where\n",
        "- n: The number of nodes,\n",
        "- m: Number of edges to attach from a new node to existing nodes\n",
        "- seed : int, optional, Seed for random number generator (default=None).\n",
        "\n",
        "For more details of barabasi_albert_graph(n, m, seed=None), please visit: https://networkx.github.io/documentation/networkx-1.9/reference/generated/networkx.generators.random_graphs.barabasi_albert_graph.html\n",
        "\n",
        "\n",
        "\n",
        "Since we want to generate a graph with the same number of nodes as the real graph in Section 1.1, and simialr number of edges with the real graph, we should set\n",
        "\n",
        "- n to be the number of nodes of the real graph\n",
        "\n",
        "- m as \\begin{equation}\n",
        "    m \\approx \\frac{k}{n}\n",
        "\\end{equation}\n",
        "so that the number of edges will be $m \\times n \\approx k$, where $k$ is the number of edges of the real world graph"
      ]
    },
    {
      "cell_type": "markdown",
      "metadata": {
        "id": "vn49oRUG0ZuM"
      },
      "source": [
        "## <font color='green'>Exercise 6: Preferrential Attachment Model</font>\n",
        "Please call nx.barabasi_albert_graph to generate a preferrential attachment graph with the same number of nodes and similar number of edges with the real-world graph in Section 1.1."
      ]
    },
    {
      "cell_type": "code",
      "metadata": {
        "trusted": true,
        "id": "5kHdHRevoTFM"
      },
      "source": [
        "# TODO: Please fill in the code here\n",
        "preferential_attachment = nx.barabasi_albert_graph(n=?????????, m=?????????)\n",
        "print('number of nodes: {}, number of edges: {}'.format(preferential_attachment.number_of_nodes(), preferential_attachment.number_of_edges()))"
      ],
      "execution_count": null,
      "outputs": []
    },
    {
      "cell_type": "markdown",
      "metadata": {
        "id": "36AUsdqioTFP"
      },
      "source": [
        "## 4.2 Degree Distribution of Preferrential Attachment Model"
      ]
    },
    {
      "cell_type": "code",
      "metadata": {
        "trusted": true,
        "id": "hpL15yRroTFQ"
      },
      "source": [
        "# call the function to plot the degree distribution\n",
        "plot_degree_histogram(preferential_attachment, 'preferential attachment')"
      ],
      "execution_count": null,
      "outputs": []
    },
    {
      "cell_type": "markdown",
      "metadata": {
        "id": "fFIxrDX6oTFU"
      },
      "source": [
        "## 4.3 Clustering Coefficients of Preferrential Attachment Model"
      ]
    },
    {
      "cell_type": "code",
      "metadata": {
        "trusted": true,
        "id": "D9ymuJT1oTFU"
      },
      "source": [
        "print('average clustering coefficients is {}'.format(nx.average_clustering(preferential_attachment)))"
      ],
      "execution_count": null,
      "outputs": []
    },
    {
      "cell_type": "markdown",
      "metadata": {
        "trusted": true,
        "id": "NFVMBX5voTFW"
      },
      "source": [
        "# <font color='green'>Fill In the Report and Submit</font>\n",
        "Now you have analyzed the real-world graph and simulated three graphs with network models, please fill in the Lab5_Network_Models_Report. Please submit Lab5_Network_Models_Report, this ipynb file and a pdf version to Canvas.\n",
        "\n",
        "<br>\n",
        "<br>\n",
        "<br>\n",
        "<br>\n",
        "\n",
        "\n",
        "\n",
        "<br>\n",
        "<br>\n",
        "<br>\n",
        "<br>\n",
        "\n"
      ]
    },
    {
      "cell_type": "markdown",
      "source": [
        "# 5. Powerlaw Cluster Graph (Optional, will not be graded)\n",
        "\n",
        "Powerlaw Cluster Graph is essentially a Barabási–Albert (BA) growth model (also known as preferrential attachment model) with an extra step that each random edge is followed by a chance of making an edge to one of its neighbors too (and thus a triangle). The algorithm is given as\n",
        "\n",
        "- Initial condition: To start with, the network consists of a small graph with $m_0$ vertices\n",
        "\n",
        "- Growth: One vertex $v$ with $m$ edges is added at\n",
        "every time step.\n",
        "\n",
        "- Preferential attachment (PA): Each edge of $v$ is\n",
        "then attached to an existing vertex with the probability proportional to its degree, i.e. the probability\n",
        "for a vertex $w$ to be attached to $v$ is $P(w) = \\frac{d_w}{\\sum_{k \\in V} d_k}$\n",
        "\n",
        "- Triad formation (TF): If an edge between $v$ and $w$\n",
        "was added in the previous PA step, then with probability $p$, add one\n",
        "more edge from $v$ to a randomly chosen neighbor\n",
        "of $w$. If there remains no pair to connect, i.e., if all\n",
        "neighbors of $w$ were already connected to $v$, do a\n",
        "PA step instead.\n",
        "\n",
        "<img src='https://drive.google.com/uc?id=12o4A1uWfEEOpWMIxcUH8tkhTDM3Q1rww' style='width:100px;height:200px;'>\n",
        "\n",
        "This algorithm improves on BA in the sense that it enables a higher average clustering to be attained if desired."
      ],
      "metadata": {
        "id": "y43G8B3tzJ_k"
      }
    },
    {
      "cell_type": "markdown",
      "source": [
        "## 5.1 Generate Scale-Free Graph with Powerlaw Cluster Graph\n",
        "We can call powerlaw_cluster_graph(n, m, p, seed=None) to generate the powerlaw cluster graph where\n",
        "- n: The number of nodes,\n",
        "- m: Number of edges to attach from a new node to existing nodes\n",
        "- Probability of adding a triangle after adding a random edge\n",
        "- seed : int, optional, Seed for random number generator (default=None)\n",
        "\n",
        "For more details, please refer to https://networkx.org/documentation/stable/reference/generated/networkx.generators.random_graphs.powerlaw_cluster_graph.html "
      ],
      "metadata": {
        "id": "jQYyT1Ki38vd"
      }
    },
    {
      "cell_type": "markdown",
      "source": [
        "## A comparison between preferrential attachment model and powerlaw cluster graph"
      ],
      "metadata": {
        "id": "ErqF-6DS6gHK"
      }
    },
    {
      "cell_type": "code",
      "source": [
        "# preferrential attachment model\n",
        "preferential_attachment = nx.barabasi_albert_graph(n=1000, m=4)\n",
        "plot_degree_histogram(preferential_attachment, 'preferential attachment')\n",
        "print('average clustering coefficients is {}'.format(nx.average_clustering(preferential_attachment)))"
      ],
      "metadata": {
        "colab": {
          "base_uri": "https://localhost:8080/",
          "height": 594
        },
        "id": "nFF4P_ij6abb",
        "outputId": "87e5b702-f810-444e-a56b-ae12907a82b8"
      },
      "execution_count": null,
      "outputs": [
        {
          "output_type": "display_data",
          "data": {
            "text/plain": [
              "<Figure size 432x288 with 1 Axes>"
            ],
            "image/png": "[encoded data removed]"
          },
          "metadata": {
            "needs_background": "light"
          }
        },
        {
          "output_type": "display_data",
          "data": {
            "text/plain": [
              "<Figure size 432x288 with 1 Axes>"
            ],
            "image/png": "[encoded data removed]"
          },
          "metadata": {
            "needs_background": "light"
          }
        },
        {
          "output_type": "stream",
          "name": "stdout",
          "text": [
            "average clustering coefficients is 0.036335238756546734\n"
          ]
        }
      ]
    },
    {
      "cell_type": "code",
      "source": [
        "# powerlaw cluster graph\n",
        "powerlaw_cluster_graph = nx.powerlaw_cluster_graph(n=1000, m=4, p=0.15)\n",
        "plot_degree_histogram(powerlaw_cluster_graph, 'powerlaw cluster graph')\n",
        "print('average clustering coefficients is {}'.format(nx.average_clustering(powerlaw_cluster_graph)))"
      ],
      "metadata": {
        "colab": {
          "base_uri": "https://localhost:8080/",
          "height": 594
        },
        "id": "9UwtiELp9LgV",
        "outputId": "96ae9a85-7b86-441a-aa4a-6b13aad46bd0"
      },
      "execution_count": null,
      "outputs": [
        {
          "output_type": "display_data",
          "data": {
            "text/plain": [
              "<Figure size 432x288 with 1 Axes>"
            ],
            "image/png": "[encoded data removed]"
          },
          "metadata": {
            "needs_background": "light"
          }
        },
        {
          "output_type": "display_data",
          "data": {
            "text/plain": [
              "<Figure size 432x288 with 1 Axes>"
            ],
            "image/png": "[encoded data removed]"
          },
          "metadata": {
            "needs_background": "light"
          }
        },
        {
          "output_type": "stream",
          "name": "stdout",
          "text": [
            "average clustering coefficients is 0.09127439169692193\n"
          ]
        }
      ]
    },
    {
      "cell_type": "markdown",
      "source": [
        "## <font color='green'>Exercise 7: Powerlaw Cluster Graph (Optional, will not be graded)\n",
        "Please call nx.powerlaw_cluster_graph to generate a small world model with the same number of nodes, similar number of edges and similar clustering coefficient with the real-world graph in Section 1.1."
      ],
      "metadata": {
        "id": "MEKbTBC-4ozJ"
      }
    },
    {
      "cell_type": "code",
      "source": [
        "# TODO: Please fill in the code here\n",
        "powerlaw_cluster_graph = nx.(n=?????????, m=?????????, p=??????)\n",
        "print('number of nodes: {}, number of edges: {}'.format(powerlaw_cluster_graph.number_of_nodes(), powerlaw_cluster_graph.number_of_edges()))"
      ],
      "metadata": {
        "id": "WOP_qoNo46Fh"
      },
      "execution_count": null,
      "outputs": []
    },
    {
      "cell_type": "markdown",
      "source": [
        "## 5.2 Degree Distribution of Powerlaw Cluster Graph"
      ],
      "metadata": {
        "id": "LayVsNRI5by2"
      }
    },
    {
      "cell_type": "code",
      "source": [
        "# call the function to plot the degree distribution\n",
        "plot_degree_histogram(powerlaw_cluster_graph, 'powerlaw_cluster_graph')"
      ],
      "metadata": {
        "id": "YxHqGLhk5Rpq"
      },
      "execution_count": null,
      "outputs": []
    },
    {
      "cell_type": "markdown",
      "source": [
        "## 5.3 Clustering Coefficients of Powerlaw Cluster Graph"
      ],
      "metadata": {
        "id": "G5av5LnE5rUK"
      }
    },
    {
      "cell_type": "code",
      "source": [
        "print('average clustering coefficients is {}'.format(nx.average_clustering(powerlaw_cluster_graph)))"
      ],
      "metadata": {
        "id": "-SfNQ56P6JdJ"
      },
      "execution_count": null,
      "outputs": []
    }
  ]
}