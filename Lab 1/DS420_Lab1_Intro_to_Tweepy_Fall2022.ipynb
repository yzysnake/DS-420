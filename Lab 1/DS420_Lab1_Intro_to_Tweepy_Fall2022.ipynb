{
  "nbformat": 4,
  "nbformat_minor": 0,
  "metadata": {
    "kernelspec": {
      "name": "python3",
      "display_name": "Python 3"
    },
    "colab": {
      "name": "DS420_Lab1_Intro_to_Tweepy_Fall2022_Updated.ipynb",
      "provenance": [],
      "collapsed_sections": []
    }
  },
  "cells": [
    {
      "cell_type": "markdown",
      "metadata": {
        "collapsed": true,
        "id": "DIyFCVq9d-HZ"
      },
      "source": [
        "# Lab1: Introduction to Tweepy, Twitter for Python\n",
        "## Due: Midnight, September 16th\n",
        "In this lab, we will introduce Tweepy, an open-sourced Python Package to communicate with Twitter platform and use its API. We will teach you how to use Tweepy to access Twitter data, such as user profiles and following list. In lab 2, we will further use Tweepy to collect Twitter network. We provide examples and most of the code for you. You will need to fill in some of the codes. You can also read the domcumentation of Tweepy to learn more about it: https://tweepy.readthedocs.io/en/latest/.\n",
        "\n",
        "\n",
        "## Save Your Notebook! \n",
        "- Click on File (upper left corner), Select “Save and Checkpoint”.\n",
        "- Important: You may loose your modification to a notebook if you do not Save it explicitly.\n",
        "- Advice: Save and Checkpoint often.  \n",
        "\n",
        "\n",
        "## Submission\n",
        "- Please follow the instructions and finish the exercises.\n",
        "- After you finish the lab, please Click on File, Select “Download”, Choose Notebook (.ipynb)\n",
        "- Please also Click on File, Select ``Print'', and choose ``Save as PDF''\n",
        "- Submit both the Notebook file and the PDF File as your submission for Lab 1.\n",
        "\n",
        "Note that we will grade your PDF file, make sure that your answers are clearly shown in the PDF file. We will run the Notebook file if your code is difficult to understand."
      ]
    },
    {
      "cell_type": "markdown",
      "metadata": {
        "id": "yyXJLimwd-Ha"
      },
      "source": [
        "# 1. Preparation\n",
        "Since this is the first time we use Colab, we need to do some preparation.\n",
        "\n"
      ]
    },
    {
      "cell_type": "markdown",
      "metadata": {
        "id": "t0CvWS8qFPui"
      },
      "source": [
        "# 1.1 Connect this Colab notebook with your Google Drive\n",
        "In this lab and following labs, we will need to save and load files. One of the most simple way to transfer files with the cloud machine of Colab is to mount the goole drive with the following code so that you can easily save your file to and load file from Goole drive <br>\n",
        "* When you first time run this code, you may receive this message:\n",
        "<img src=\"https://drive.google.com/uc?export=view&id=1sWVQX-dRthuS5rPwHxnY92cXHafkO2RC\" width=\"900\" align=\"center\"/>\n",
        "* Please click the URL. You will then find the following message which shows your authorization code:\n",
        "<img src=\"https://drive.google.com/uc?export=view&id=1GlQOxc-EiAGDeDy06DPio98FJaV-LCSZ\" width=\"400\" align=\"center\"/>\n",
        "* Finally copy the code to the box and press \"Enter\". You might want to manually copy the code. Somehow when you use the copy button, it might cause some problem. If successful, you should find ``Mounted at /content/drive/'' as shown below\n",
        "<img src=\"https://drive.google.com/uc?export=view&id=1lBqoNyvOzC0QRqL5D74J5lxlZaSgjDG9\" width=\"900\" align=\"center\"/>\n"
      ]
    },
    {
      "cell_type": "code",
      "metadata": {
        "id": "Ig-WDFMitinM",
        "colab": {
          "base_uri": "https://localhost:8080/"
        },
        "outputId": "68fd5b69-26ee-4121-9fe7-633b2362451b"
      },
      "source": [
        "# Mount google drive\n",
        "from google.colab import drive\n",
        "drive.mount('/content/gdrive')"
      ],
      "execution_count": 1,
      "outputs": [
        {
          "output_type": "stream",
          "name": "stdout",
          "text": [
            "Drive already mounted at /content/gdrive; to attempt to forcibly remount, call drive.mount(\"/content/gdrive\", force_remount=True).\n"
          ]
        }
      ]
    },
    {
      "cell_type": "markdown",
      "metadata": {
        "id": "WL-k47TkCkuf"
      },
      "source": [
        "Then your google drive will be mounted to this cloud machine. <br>\n",
        "We could use following commands to set the google drive as our working directory and present the files and folders in the google drive."
      ]
    },
    {
      "cell_type": "markdown",
      "metadata": {
        "id": "qgRFb7fuE3_1"
      },
      "source": [
        "**Set location of the google drive as the working directory**"
      ]
    },
    {
      "cell_type": "code",
      "metadata": {
        "id": "v-1UnWorCqdC",
        "colab": {
          "base_uri": "https://localhost:8080/"
        },
        "outputId": "99f0d764-7a66-499a-8be4-bae828d69fb5"
      },
      "source": [
        "cd /content/gdrive/My\\ Drive"
      ],
      "execution_count": 2,
      "outputs": [
        {
          "output_type": "stream",
          "name": "stdout",
          "text": [
            "/content/gdrive/My Drive\n"
          ]
        }
      ]
    },
    {
      "cell_type": "markdown",
      "metadata": {
        "id": "p8RDXSNEFWG0"
      },
      "source": [
        "**List all the files and folders in your google drive**"
      ]
    },
    {
      "cell_type": "code",
      "metadata": {
        "id": "YT1WuKRiDciq",
        "colab": {
          "base_uri": "https://localhost:8080/"
        },
        "outputId": "5260da69-38e3-4e40-e441-0f421d86be54"
      },
      "source": [
        "!ls"
      ],
      "execution_count": 3,
      "outputs": [
        {
          "output_type": "stream",
          "name": "stdout",
          "text": [
            "'ARO_GNN Rebuttal.gdoc'   publications.gdoc\n",
            "'Colab Notebooks'\t  publications.html\n",
            " DS310\t\t\t 'Qualify Exam Prompt'\n",
            " DS402\t\t\t  tokens_list.gdoc\n",
            " DS420\t\t\t 'Zhang_Report on Final Exam.gdoc'\n",
            "'Getting started.pdf'\n"
          ]
        }
      ]
    },
    {
      "cell_type": "markdown",
      "metadata": {
        "id": "euizl6lsrwPd"
      },
      "source": [
        "# 1.2. Install Tweepy\n",
        "Tweepy could be easily installed with pip. In CoLab Notebook, run the following code and the tweepy will be automatically installed. You may need wait for a few seconds for the installation. Most of the time, Tweepy should have already been installed."
      ]
    },
    {
      "cell_type": "code",
      "metadata": {
        "trusted": true,
        "id": "YsZSMSN7d-Ha",
        "colab": {
          "base_uri": "https://localhost:8080/"
        },
        "outputId": "6eca5d6f-44fe-4417-ded1-e63a290a6aa7"
      },
      "source": [
        "!pip install tweepy"
      ],
      "execution_count": 4,
      "outputs": [
        {
          "output_type": "stream",
          "name": "stdout",
          "text": [
            "Looking in indexes: https://pypi.org/simple, https://us-python.pkg.dev/colab-wheels/public/simple/\n",
            "Requirement already satisfied: tweepy in /usr/local/lib/python3.7/dist-packages (3.10.0)\n",
            "Requirement already satisfied: requests[socks]>=2.11.1 in /usr/local/lib/python3.7/dist-packages (from tweepy) (2.23.0)\n",
            "Requirement already satisfied: requests-oauthlib>=0.7.0 in /usr/local/lib/python3.7/dist-packages (from tweepy) (1.3.1)\n",
            "Requirement already satisfied: six>=1.10.0 in /usr/local/lib/python3.7/dist-packages (from tweepy) (1.15.0)\n",
            "Requirement already satisfied: oauthlib>=3.0.0 in /usr/local/lib/python3.7/dist-packages (from requests-oauthlib>=0.7.0->tweepy) (3.2.0)\n",
            "Requirement already satisfied: urllib3!=1.25.0,!=1.25.1,<1.26,>=1.21.1 in /usr/local/lib/python3.7/dist-packages (from requests[socks]>=2.11.1->tweepy) (1.24.3)\n",
            "Requirement already satisfied: idna<3,>=2.5 in /usr/local/lib/python3.7/dist-packages (from requests[socks]>=2.11.1->tweepy) (2.10)\n",
            "Requirement already satisfied: chardet<4,>=3.0.2 in /usr/local/lib/python3.7/dist-packages (from requests[socks]>=2.11.1->tweepy) (3.0.4)\n",
            "Requirement already satisfied: certifi>=2017.4.17 in /usr/local/lib/python3.7/dist-packages (from requests[socks]>=2.11.1->tweepy) (2022.6.15)\n",
            "Requirement already satisfied: PySocks!=1.5.7,>=1.5.6 in /usr/local/lib/python3.7/dist-packages (from requests[socks]>=2.11.1->tweepy) (1.7.1)\n"
          ]
        }
      ]
    },
    {
      "cell_type": "markdown",
      "metadata": {
        "id": "2e0zy48xd-He"
      },
      "source": [
        "# 1.3. Install the requirement packages for this notebook\n",
        "Apart from tweepy, several packages are also used here for visualization. \n",
        "- geopy is used to locate the coordinates of addresses, cities, countries, and landmarks across the globe using third-party geocoders and other data sources.\n",
        "- matplotlib is used to plot the figure\n",
        "- \n",
        "Run this following code to install them. It takes **around five minutes to be installed**.\n"
      ]
    },
    {
      "cell_type": "code",
      "metadata": {
        "trusted": true,
        "id": "NHjPoVFLd-He",
        "colab": {
          "base_uri": "https://localhost:8080/"
        },
        "outputId": "7028f75f-e4f9-430d-ce4d-f7625f6a0376"
      },
      "source": [
        "!pip install geopy\n",
        "!pip install matplotlib\n",
        "!pip install basemap\n",
        "!apt install proj-bin libproj-dev libgeos-dev\n",
        "!pip install --user git+https://github.com/matplotlib/basemap.git\n",
        "    \n",
        "print('finish installing the packages')"
      ],
      "execution_count": 5,
      "outputs": [
        {
          "output_type": "stream",
          "name": "stdout",
          "text": [
            "Looking in indexes: https://pypi.org/simple, https://us-python.pkg.dev/colab-wheels/public/simple/\n",
            "Requirement already satisfied: geopy in /usr/local/lib/python3.7/dist-packages (1.17.0)\n",
            "Requirement already satisfied: geographiclib<2,>=1.49 in /usr/local/lib/python3.7/dist-packages (from geopy) (1.52)\n",
            "Looking in indexes: https://pypi.org/simple, https://us-python.pkg.dev/colab-wheels/public/simple/\n",
            "Requirement already satisfied: matplotlib in /usr/local/lib/python3.7/dist-packages (3.2.2)\n",
            "Requirement already satisfied: numpy>=1.11 in /usr/local/lib/python3.7/dist-packages (from matplotlib) (1.21.6)\n",
            "Requirement already satisfied: pyparsing!=2.0.4,!=2.1.2,!=2.1.6,>=2.0.1 in /usr/local/lib/python3.7/dist-packages (from matplotlib) (3.0.9)\n",
            "Requirement already satisfied: python-dateutil>=2.1 in /usr/local/lib/python3.7/dist-packages (from matplotlib) (2.8.2)\n",
            "Requirement already satisfied: kiwisolver>=1.0.1 in /usr/local/lib/python3.7/dist-packages (from matplotlib) (1.4.4)\n",
            "Requirement already satisfied: cycler>=0.10 in /usr/local/lib/python3.7/dist-packages (from matplotlib) (0.11.0)\n",
            "Requirement already satisfied: typing-extensions in /usr/local/lib/python3.7/dist-packages (from kiwisolver>=1.0.1->matplotlib) (4.1.1)\n",
            "Requirement already satisfied: six>=1.5 in /usr/local/lib/python3.7/dist-packages (from python-dateutil>=2.1->matplotlib) (1.15.0)\n",
            "Looking in indexes: https://pypi.org/simple, https://us-python.pkg.dev/colab-wheels/public/simple/\n",
            "Requirement already satisfied: basemap in /usr/local/lib/python3.7/dist-packages (1.3.4)\n",
            "Requirement already satisfied: pyshp<2.4,>=1.2 in /usr/local/lib/python3.7/dist-packages (from basemap) (2.3.1)\n",
            "Requirement already satisfied: pyproj<3.4.0,>=1.9.3 in /usr/local/lib/python3.7/dist-packages (from basemap) (3.2.1)\n",
            "Requirement already satisfied: matplotlib<3.6,>=1.5 in /usr/local/lib/python3.7/dist-packages (from basemap) (3.2.2)\n",
            "Requirement already satisfied: basemap-data<1.4,>=1.3.2 in /usr/local/lib/python3.7/dist-packages (from basemap) (1.3.2)\n",
            "Requirement already satisfied: numpy<1.22,>=1.21 in /usr/local/lib/python3.7/dist-packages (from basemap) (1.21.6)\n",
            "Requirement already satisfied: pyparsing!=2.0.4,!=2.1.2,!=2.1.6,>=2.0.1 in /usr/local/lib/python3.7/dist-packages (from matplotlib<3.6,>=1.5->basemap) (3.0.9)\n",
            "Requirement already satisfied: kiwisolver>=1.0.1 in /usr/local/lib/python3.7/dist-packages (from matplotlib<3.6,>=1.5->basemap) (1.4.4)\n",
            "Requirement already satisfied: cycler>=0.10 in /usr/local/lib/python3.7/dist-packages (from matplotlib<3.6,>=1.5->basemap) (0.11.0)\n",
            "Requirement already satisfied: python-dateutil>=2.1 in /usr/local/lib/python3.7/dist-packages (from matplotlib<3.6,>=1.5->basemap) (2.8.2)\n",
            "Requirement already satisfied: typing-extensions in /usr/local/lib/python3.7/dist-packages (from kiwisolver>=1.0.1->matplotlib<3.6,>=1.5->basemap) (4.1.1)\n",
            "Requirement already satisfied: certifi in /usr/local/lib/python3.7/dist-packages (from pyproj<3.4.0,>=1.9.3->basemap) (2022.6.15)\n",
            "Requirement already satisfied: six>=1.5 in /usr/local/lib/python3.7/dist-packages (from python-dateutil>=2.1->matplotlib<3.6,>=1.5->basemap) (1.15.0)\n",
            "Reading package lists... Done\n",
            "Building dependency tree       \n",
            "Reading state information... Done\n",
            "libgeos-dev is already the newest version (3.6.2-1build2).\n",
            "libproj-dev is already the newest version (4.9.3-2).\n",
            "proj-bin is already the newest version (4.9.3-2).\n",
            "The following package was automatically installed and is no longer required:\n",
            "  libnvidia-common-460\n",
            "Use 'apt autoremove' to remove it.\n",
            "0 upgraded, 0 newly installed, 0 to remove and 20 not upgraded.\n",
            "Looking in indexes: https://pypi.org/simple, https://us-python.pkg.dev/colab-wheels/public/simple/\n",
            "Collecting git+https://github.com/matplotlib/basemap.git\n",
            "  Cloning https://github.com/matplotlib/basemap.git to /tmp/pip-req-build-9y54ou7p\n",
            "  Running command git clone -q https://github.com/matplotlib/basemap.git /tmp/pip-req-build-9y54ou7p\n",
            "\u001b[31mERROR: File \"setup.py\" not found for legacy project git+https://github.com/matplotlib/basemap.git.\u001b[0m\n",
            "finish installing the packages\n"
          ]
        }
      ]
    },
    {
      "cell_type": "markdown",
      "metadata": {
        "id": "37oEFPrs4VkY"
      },
      "source": [
        "# 1.4 Restart the notebook runtime and re-run all the previous cells \n",
        "In order to make the updates valid, we need to **restart** the notebook book and **re-run** the above cells. <br>\n",
        "* The restart button is here as it shown: <br>\n",
        "<img src=\"https://drive.google.com/uc?export=view&id=1ty6YEFaHnH4JwyYiaqS9vmlisHeB5da8\" width=\"400\" align=\"center\"/>\n",
        "\n",
        "\n",
        "* After re-running the installation cells you would receive the following messages with warnings in red:\n",
        "<img src=\"https://drive.google.com/uc?export=view&id=1fHb71_9UlSoa6EZPJbbD9ma8DD1efTvX\" width=\"600\" align=\"center\"/>"
      ]
    },
    {
      "cell_type": "markdown",
      "metadata": {
        "id": "F87WmM74d-Hh"
      },
      "source": [
        "# 1.4. Create Twitter API Authentication Credentials\n",
        "Tweepy is a package that wraps the Twitter API for easier implementation. We need to create the **authentication credentials** to use the Twitter API. These credentials are four text strings:\n",
        "1. Consumer key\n",
        "2. Consumer secret\n",
        "3. Access token\n",
        "4. Access secret\n",
        "\n",
        "You should already have applied the Twitter Developer Account and created apps. If not, please follow the slides/insturctions for applying Twitter Developer Account."
      ]
    },
    {
      "cell_type": "markdown",
      "metadata": {
        "id": "DqwmlAR0d-Hh"
      },
      "source": [
        "# 2. Using Tweepy\n",
        "After attaining the authentication credentials, we can set up teepy for crawling useful information.\n",
        "## 2.1. Authentication\n",
        "Two types of authentication: OAuth 1a and OAuth 2 are used in Twitter. We will use OAuth 2 Authentication. <br>"
      ]
    },
    {
      "cell_type": "markdown",
      "metadata": {
        "id": "mlOXXtXwd-Hi"
      },
      "source": [
        "## <font color='green'>Exercise 1: Authentication</font>\n",
        "The code for authentication with Tweepy is given below.\n",
        "Please fill in your CONSUEMER_KEY, CONSUMER_SECRET, ACCESS_TOKEN and ACCESS_TOKEN_SECRET into the code and run it. <br>\n",
        "The expected output should be: `Authentication OK`"
      ]
    },
    {
      "cell_type": "code",
      "metadata": {
        "trusted": true,
        "id": "HRRYdH9cd-Hi",
        "colab": {
          "base_uri": "https://localhost:8080/"
        },
        "outputId": "2379935c-89e1-465b-9e24-d4adb93b69b2"
      },
      "source": [
        "import tweepy\n",
        "\n",
        "# replace with your own tokens\n",
        "\n",
        "CONSUMER_KEY = \"??????????\"\n",
        "CONSUMER_SECRET = \"?????????????\"\n",
        "ACCESS_TOKEN = \"?????????????\"\n",
        "ACCESS_TOKEN_SECRET = \"??????????\"\n",
        "\n",
        "\n",
        "# Authenticate to Twitter\n",
        "auth = tweepy.OAuthHandler(consumer_key=CONSUMER_KEY, consumer_secret=CONSUMER_SECRET)\n",
        "auth.set_access_token(ACCESS_TOKEN,ACCESS_TOKEN_SECRET)\n",
        "\n",
        "# build a api object, and the introduction about the rate limit will be cover in next lab\n",
        "api = tweepy.API(auth, wait_on_rate_limit=True, wait_on_rate_limit_notify=True)\n",
        "\n",
        "\n",
        "if api.verify_credentials():\n",
        "    print(\"Authentication OK\")\n",
        "else:\n",
        "    print(\"Error during authentication\")"
      ],
      "execution_count": 6,
      "outputs": [
        {
          "output_type": "stream",
          "name": "stdout",
          "text": [
            "Authentication OK\n"
          ]
        }
      ]
    },
    {
      "cell_type": "markdown",
      "metadata": {
        "id": "uyIWU8sdd-Hk"
      },
      "source": [
        "## 2.2 Get profile\n",
        "The following codes are used to crawl user profiles. The returned profile is in the format of a dictionary, which covers fundamental attributes such as **id**, **screen_name** and **created_at**. The detailed description could be find in this [link](https://developer.twitter.com/en/docs/tweets/data-dictionary/overview/user-object)."
      ]
    },
    {
      "cell_type": "code",
      "metadata": {
        "trusted": true,
        "id": "ryShVhW8d-Hl",
        "colab": {
          "base_uri": "https://localhost:8080/"
        },
        "outputId": "e21ec2eb-2001-4032-97e9-d0e461a77818"
      },
      "source": [
        "# The eaist way to attatin your own profile call this function:\n",
        "own_profile = api.me()\n",
        "\n",
        "# own profile_is a user object, we can attain the attributes by calling own_profile.screen_name\n",
        "print(\"own screen name: {}\".format(own_profile.screen_name))\n",
        "\n",
        "# The metadata is all reserved in json object (here is a dictionary).\n",
        "# We can also get the attribute through the metadata in this way: own_profile._json[\"screen_name\"]\n",
        "print(\"The {} json file content:\".format(own_profile._json[\"screen_name\"]))\n",
        "own_profile._json"
      ],
      "execution_count": 7,
      "outputs": [
        {
          "output_type": "stream",
          "name": "stdout",
          "text": [
            "own screen name: SuhangWang\n",
            "The SuhangWang json file content:\n"
          ]
        },
        {
          "output_type": "execute_result",
          "data": {
            "text/plain": [
              "{'id': 2302220106,\n",
              " 'id_str': '2302220106',\n",
              " 'name': 'Suhang Wang',\n",
              " 'screen_name': 'SuhangWang',\n",
              " 'location': '',\n",
              " 'profile_location': None,\n",
              " 'description': '',\n",
              " 'url': None,\n",
              " 'entities': {'description': {'urls': []}},\n",
              " 'protected': False,\n",
              " 'followers_count': 5,\n",
              " 'friends_count': 5,\n",
              " 'listed_count': 0,\n",
              " 'created_at': 'Tue Jan 21 00:23:48 +0000 2014',\n",
              " 'favourites_count': 0,\n",
              " 'utc_offset': None,\n",
              " 'time_zone': None,\n",
              " 'geo_enabled': False,\n",
              " 'verified': False,\n",
              " 'statuses_count': 3,\n",
              " 'lang': None,\n",
              " 'status': {'created_at': 'Tue Jul 27 20:13:41 +0000 2021',\n",
              "  'id': 1420115196627111937,\n",
              "  'id_str': '1420115196627111937',\n",
              "  'text': 'RT @kdnuggets: ARTIFICIAL INTELLIGENCE, A #TEXTBOOK: This book covers the broader field of #AI, carefully balancing coverage between classi…',\n",
              "  'truncated': False,\n",
              "  'entities': {'hashtags': [{'text': 'TEXTBOOK', 'indices': [42, 51]},\n",
              "    {'text': 'AI', 'indices': [91, 94]}],\n",
              "   'symbols': [],\n",
              "   'user_mentions': [{'screen_name': 'kdnuggets',\n",
              "     'name': 'KDnuggets',\n",
              "     'id': 20167623,\n",
              "     'id_str': '20167623',\n",
              "     'indices': [3, 13]}],\n",
              "   'urls': []},\n",
              "  'source': '<a href=\"https://mobile.twitter.com\" rel=\"nofollow\">Twitter Web App</a>',\n",
              "  'in_reply_to_status_id': None,\n",
              "  'in_reply_to_status_id_str': None,\n",
              "  'in_reply_to_user_id': None,\n",
              "  'in_reply_to_user_id_str': None,\n",
              "  'in_reply_to_screen_name': None,\n",
              "  'geo': None,\n",
              "  'coordinates': None,\n",
              "  'place': None,\n",
              "  'contributors': None,\n",
              "  'retweeted_status': {'created_at': 'Tue Jul 27 18:08:07 +0000 2021',\n",
              "   'id': 1420083593821437958,\n",
              "   'id_str': '1420083593821437958',\n",
              "   'text': 'ARTIFICIAL INTELLIGENCE, A #TEXTBOOK: This book covers the broader field of #AI, carefully balancing coverage betwe… https://t.co/MGBMRst3xk',\n",
              "   'truncated': True,\n",
              "   'entities': {'hashtags': [{'text': 'TEXTBOOK', 'indices': [27, 36]},\n",
              "     {'text': 'AI', 'indices': [76, 79]}],\n",
              "    'symbols': [],\n",
              "    'user_mentions': [],\n",
              "    'urls': [{'url': 'https://t.co/MGBMRst3xk',\n",
              "      'expanded_url': 'https://twitter.com/i/web/status/1420083593821437958',\n",
              "      'display_url': 'twitter.com/i/web/status/1…',\n",
              "      'indices': [117, 140]}]},\n",
              "   'source': '<a href=\"https://buffer.com\" rel=\"nofollow\">Buffer</a>',\n",
              "   'in_reply_to_status_id': None,\n",
              "   'in_reply_to_status_id_str': None,\n",
              "   'in_reply_to_user_id': None,\n",
              "   'in_reply_to_user_id_str': None,\n",
              "   'in_reply_to_screen_name': None,\n",
              "   'geo': None,\n",
              "   'coordinates': None,\n",
              "   'place': None,\n",
              "   'contributors': None,\n",
              "   'is_quote_status': False,\n",
              "   'retweet_count': 43,\n",
              "   'favorite_count': 103,\n",
              "   'favorited': False,\n",
              "   'retweeted': True,\n",
              "   'possibly_sensitive': False,\n",
              "   'lang': 'en'},\n",
              "  'is_quote_status': False,\n",
              "  'retweet_count': 43,\n",
              "  'favorite_count': 0,\n",
              "  'favorited': False,\n",
              "  'retweeted': True,\n",
              "  'lang': 'en'},\n",
              " 'contributors_enabled': False,\n",
              " 'is_translator': False,\n",
              " 'is_translation_enabled': False,\n",
              " 'profile_background_color': 'C0DEED',\n",
              " 'profile_background_image_url': 'http://abs.twimg.com/images/themes/theme1/bg.png',\n",
              " 'profile_background_image_url_https': 'https://abs.twimg.com/images/themes/theme1/bg.png',\n",
              " 'profile_background_tile': False,\n",
              " 'profile_image_url': 'http://abs.twimg.com/sticky/default_profile_images/default_profile_normal.png',\n",
              " 'profile_image_url_https': 'https://abs.twimg.com/sticky/default_profile_images/default_profile_normal.png',\n",
              " 'profile_link_color': '1DA1F2',\n",
              " 'profile_sidebar_border_color': 'C0DEED',\n",
              " 'profile_sidebar_fill_color': 'DDEEF6',\n",
              " 'profile_text_color': '333333',\n",
              " 'profile_use_background_image': True,\n",
              " 'has_extended_profile': False,\n",
              " 'default_profile': True,\n",
              " 'default_profile_image': True,\n",
              " 'following': False,\n",
              " 'follow_request_sent': False,\n",
              " 'notifications': False,\n",
              " 'translator_type': 'none',\n",
              " 'withheld_in_countries': [],\n",
              " 'suspended': False,\n",
              " 'needs_phone_verification': False}"
            ]
          },
          "metadata": {},
          "execution_count": 7
        }
      ]
    },
    {
      "cell_type": "markdown",
      "metadata": {
        "id": "Wo5jfqlid-Hn"
      },
      "source": [
        "### short explanation\n",
        "Please read the above output. The own_profile._json is in json format with key:value paris. You can use own_profile._json[key] to retrive the value. For example, to get the description, you can use own_profile._json['description']"
      ]
    },
    {
      "cell_type": "markdown",
      "metadata": {
        "id": "uyBzHTCvd-Hn"
      },
      "source": [
        "## <font color='green'>Exercise 2: Print the number of followers and friends of your own twitter account</font>\n",
        "In addition to screen_name, followers_count and friends_count are included in the user profiles. <br>\n",
        "Please list the count of followers and friends_count presented in your own profile (You could choose other public users if you have privacy concern).<br>\n",
        "The output should be in the following format: <br>\n",
        "`The followers_count of user ** is XXXX.` <br>\n",
        "`The friends_count of user ** is XXXX.`"
      ]
    },
    {
      "cell_type": "code",
      "metadata": {
        "trusted": true,
        "id": "RrnSIxTnd-Ho"
      },
      "source": [
        "# Enter your code here\n",
        "print(\"The followers_count of user {} is {}\".format(????????, ???????????))"
      ],
      "execution_count": null,
      "outputs": []
    },
    {
      "cell_type": "code",
      "metadata": {
        "trusted": true,
        "id": "2MCYQhiud-Hs",
        "colab": {
          "base_uri": "https://localhost:8080/"
        },
        "outputId": "8d9bcce5-489b-476a-d2de-53fe9ac98dd5"
      },
      "source": [
        "# You can also input other user's id/user_id/screen_name to get their profile\n",
        "# For example\n",
        "profile = api.get_user(\"juventusfcpt\")\n",
        "print(profile.screen_name)"
      ],
      "execution_count": 9,
      "outputs": [
        {
          "output_type": "stream",
          "name": "stdout",
          "text": [
            "juventusfcpt\n"
          ]
        }
      ]
    },
    {
      "cell_type": "code",
      "metadata": {
        "colab": {
          "base_uri": "https://localhost:8080/"
        },
        "id": "IkR2dNhM1ysR",
        "outputId": "456996d4-91f8-47cd-f21d-81c250480cb9"
      },
      "source": [
        "print(profile)"
      ],
      "execution_count": 10,
      "outputs": [
        {
          "output_type": "stream",
          "name": "stdout",
          "text": [
            "User(_api=<tweepy.api.API object at 0x7f6187e97d50>, _json={'id': 1176894795907837952, 'id_str': '1176894795907837952', 'name': 'JuventusFC', 'screen_name': 'juventusfcpt', 'location': 'Turin', 'profile_location': None, 'description': '🇵🇹🇧🇷 Perfil oficial da Juventus em português. 🇮🇹@juventusfc, 🇬🇧@juventusfcen, 🇪🇸@juventusfces, 🇮🇩@juventusfcid, ♀@JuventusFCWomen', 'url': 'https://t.co/z9vvvbncHm', 'entities': {'url': {'urls': [{'url': 'https://t.co/z9vvvbncHm', 'expanded_url': 'http://www.juventus.com', 'display_url': 'juventus.com', 'indices': [0, 23]}]}, 'description': {'urls': []}}, 'protected': False, 'followers_count': 52918, 'friends_count': 51, 'listed_count': 88, 'created_at': 'Wed Sep 25 16:22:56 +0000 2019', 'favourites_count': 240, 'utc_offset': None, 'time_zone': None, 'geo_enabled': True, 'verified': True, 'statuses_count': 12788, 'lang': None, 'status': {'created_at': 'Fri Sep 02 18:50:00 +0000 2022', 'id': 1565774056019808256, 'id_str': '1565774056019808256', 'text': 'Cobrança de falta de @fbernardeschi ➕ linda finalização de Pipita Higuaín nos deram a vitória no #FiorentinaJuve de… https://t.co/Vy7WzbTGiR', 'truncated': True, 'entities': {'hashtags': [{'text': 'FiorentinaJuve', 'indices': [97, 112]}], 'symbols': [], 'user_mentions': [{'screen_name': 'fbernardeschi', 'name': 'Federico Bernardeschi', 'id': 2746617150, 'id_str': '2746617150', 'indices': [21, 35]}], 'urls': [{'url': 'https://t.co/Vy7WzbTGiR', 'expanded_url': 'https://twitter.com/i/web/status/1565774056019808256', 'display_url': 'twitter.com/i/web/status/1…', 'indices': [117, 140]}]}, 'source': '<a href=\"https://mobile.twitter.com\" rel=\"nofollow\">Twitter Web App</a>', 'in_reply_to_status_id': None, 'in_reply_to_status_id_str': None, 'in_reply_to_user_id': None, 'in_reply_to_user_id_str': None, 'in_reply_to_screen_name': None, 'geo': None, 'coordinates': None, 'place': None, 'contributors': None, 'is_quote_status': False, 'retweet_count': 1, 'favorite_count': 26, 'favorited': False, 'retweeted': False, 'possibly_sensitive': False, 'lang': 'pt'}, 'contributors_enabled': False, 'is_translator': False, 'is_translation_enabled': False, 'profile_background_color': 'F5F8FA', 'profile_background_image_url': None, 'profile_background_image_url_https': None, 'profile_background_tile': False, 'profile_image_url': 'http://pbs.twimg.com/profile_images/1464673854132047883/eLuqT_4g_normal.jpg', 'profile_image_url_https': 'https://pbs.twimg.com/profile_images/1464673854132047883/eLuqT_4g_normal.jpg', 'profile_banner_url': 'https://pbs.twimg.com/profile_banners/1176894795907837952/1658071019', 'profile_link_color': '1DA1F2', 'profile_sidebar_border_color': 'C0DEED', 'profile_sidebar_fill_color': 'DDEEF6', 'profile_text_color': '333333', 'profile_use_background_image': True, 'has_extended_profile': False, 'default_profile': True, 'default_profile_image': False, 'following': False, 'follow_request_sent': False, 'notifications': False, 'translator_type': 'none', 'withheld_in_countries': []}, id=1176894795907837952, id_str='1176894795907837952', name='JuventusFC', screen_name='juventusfcpt', location='Turin', profile_location=None, description='🇵🇹🇧🇷 Perfil oficial da Juventus em português. 🇮🇹@juventusfc, 🇬🇧@juventusfcen, 🇪🇸@juventusfces, 🇮🇩@juventusfcid, ♀@JuventusFCWomen', url='https://t.co/z9vvvbncHm', entities={'url': {'urls': [{'url': 'https://t.co/z9vvvbncHm', 'expanded_url': 'http://www.juventus.com', 'display_url': 'juventus.com', 'indices': [0, 23]}]}, 'description': {'urls': []}}, protected=False, followers_count=52918, friends_count=51, listed_count=88, created_at=datetime.datetime(2019, 9, 25, 16, 22, 56), favourites_count=240, utc_offset=None, time_zone=None, geo_enabled=True, verified=True, statuses_count=12788, lang=None, status=Status(_api=<tweepy.api.API object at 0x7f6187e97d50>, _json={'created_at': 'Fri Sep 02 18:50:00 +0000 2022', 'id': 1565774056019808256, 'id_str': '1565774056019808256', 'text': 'Cobrança de falta de @fbernardeschi ➕ linda finalização de Pipita Higuaín nos deram a vitória no #FiorentinaJuve de… https://t.co/Vy7WzbTGiR', 'truncated': True, 'entities': {'hashtags': [{'text': 'FiorentinaJuve', 'indices': [97, 112]}], 'symbols': [], 'user_mentions': [{'screen_name': 'fbernardeschi', 'name': 'Federico Bernardeschi', 'id': 2746617150, 'id_str': '2746617150', 'indices': [21, 35]}], 'urls': [{'url': 'https://t.co/Vy7WzbTGiR', 'expanded_url': 'https://twitter.com/i/web/status/1565774056019808256', 'display_url': 'twitter.com/i/web/status/1…', 'indices': [117, 140]}]}, 'source': '<a href=\"https://mobile.twitter.com\" rel=\"nofollow\">Twitter Web App</a>', 'in_reply_to_status_id': None, 'in_reply_to_status_id_str': None, 'in_reply_to_user_id': None, 'in_reply_to_user_id_str': None, 'in_reply_to_screen_name': None, 'geo': None, 'coordinates': None, 'place': None, 'contributors': None, 'is_quote_status': False, 'retweet_count': 1, 'favorite_count': 26, 'favorited': False, 'retweeted': False, 'possibly_sensitive': False, 'lang': 'pt'}, created_at=datetime.datetime(2022, 9, 2, 18, 50), id=1565774056019808256, id_str='1565774056019808256', text='Cobrança de falta de @fbernardeschi ➕ linda finalização de Pipita Higuaín nos deram a vitória no #FiorentinaJuve de… https://t.co/Vy7WzbTGiR', truncated=True, entities={'hashtags': [{'text': 'FiorentinaJuve', 'indices': [97, 112]}], 'symbols': [], 'user_mentions': [{'screen_name': 'fbernardeschi', 'name': 'Federico Bernardeschi', 'id': 2746617150, 'id_str': '2746617150', 'indices': [21, 35]}], 'urls': [{'url': 'https://t.co/Vy7WzbTGiR', 'expanded_url': 'https://twitter.com/i/web/status/1565774056019808256', 'display_url': 'twitter.com/i/web/status/1…', 'indices': [117, 140]}]}, source='Twitter Web App', source_url='https://mobile.twitter.com', in_reply_to_status_id=None, in_reply_to_status_id_str=None, in_reply_to_user_id=None, in_reply_to_user_id_str=None, in_reply_to_screen_name=None, geo=None, coordinates=None, place=None, contributors=None, is_quote_status=False, retweet_count=1, favorite_count=26, favorited=False, retweeted=False, possibly_sensitive=False, lang='pt'), contributors_enabled=False, is_translator=False, is_translation_enabled=False, profile_background_color='F5F8FA', profile_background_image_url=None, profile_background_image_url_https=None, profile_background_tile=False, profile_image_url='http://pbs.twimg.com/profile_images/1464673854132047883/eLuqT_4g_normal.jpg', profile_image_url_https='https://pbs.twimg.com/profile_images/1464673854132047883/eLuqT_4g_normal.jpg', profile_banner_url='https://pbs.twimg.com/profile_banners/1176894795907837952/1658071019', profile_link_color='1DA1F2', profile_sidebar_border_color='C0DEED', profile_sidebar_fill_color='DDEEF6', profile_text_color='333333', profile_use_background_image=True, has_extended_profile=False, default_profile=True, default_profile_image=False, following=False, follow_request_sent=False, notifications=False, translator_type='none', withheld_in_countries=[])\n"
          ]
        }
      ]
    },
    {
      "cell_type": "markdown",
      "metadata": {
        "id": "MLpfUah_d-Hv"
      },
      "source": [
        "## Save the profile with json\n",
        "The user profile is sent to us from twitter in json format. We can save this in json file with json package: <br>\n",
        "**Attention**: When you save the user profile, you are required to **save profile._json** which is the metadata of the profile"
      ]
    },
    {
      "cell_type": "code",
      "metadata": {
        "trusted": true,
        "id": "YDUfIxOAd-Hv",
        "colab": {
          "base_uri": "https://localhost:8080/"
        },
        "outputId": "1b493cda-930f-4d2f-aaea-500689abac9c"
      },
      "source": [
        "import json # import necessary package\n",
        "import os\n",
        "\n",
        "# build a directory to save the file\n",
        "# /content/drive/My Drive/DS402/ refers to the DS402 folder we have created in the google drive.\n",
        "directory = \"/content/gdrive/My Drive/DS420/results\"\n",
        "\n",
        "if(not os.path.exists(directory)):\n",
        "    os.makedirs(directory)\n",
        "    print(\"{} has been added\".format(directory))\n",
        "else:\n",
        "    print(\"{} already existed\".format(directory))\n",
        "    \n",
        "# save the user profile\n",
        "own_profile_path = os.path.join(directory,\"{}_profile.json\".format(profile.screen_name))\n",
        "with open(own_profile_path,\"w\") as f:\n",
        "    json.dump(profile._json,f)\n",
        "    print(\"{} has been saved\".format(own_profile_path))"
      ],
      "execution_count": 11,
      "outputs": [
        {
          "output_type": "stream",
          "name": "stdout",
          "text": [
            "/content/gdrive/My Drive/DS420/results has been added\n",
            "/content/gdrive/My Drive/DS420/results/juventusfcpt_profile.json has been saved\n"
          ]
        }
      ]
    },
    {
      "cell_type": "markdown",
      "metadata": {
        "id": "W2L98lozd-Hx"
      },
      "source": [
        "### Short Explanation\n",
        "* Since the google drive is mounted on `/content/gdrive`, saving files in `/content/gdrive/My Drive/DS402/results` is actually saving files in your google drive. \n",
        "* Now you should see the folder named results and the file juventusfcpt_profile.json in your google drive folder: `My Drive/DS402/results` <br>\n",
        "<img src=\"https://drive.google.com/uc?export=view&id=1RmnszjpJ_Ph8BDENkpgVLnVpBe7aqtf4\" width=\"400\" align=\"center\"/>\n",
        "\n",
        "**Please check your google drive folder.**"
      ]
    },
    {
      "cell_type": "markdown",
      "metadata": {
        "id": "Br6CgN6hd-Hx"
      },
      "source": [
        "## Reload the saved files"
      ]
    },
    {
      "cell_type": "code",
      "metadata": {
        "trusted": true,
        "id": "QQ9i3Be1d-Hy",
        "colab": {
          "base_uri": "https://localhost:8080/"
        },
        "outputId": "3ee14763-7389-4c61-810e-81690713dca2"
      },
      "source": [
        "with open(own_profile_path,'r') as f:\n",
        "    profile = json.load(f)\n",
        "    print(\"{} profile has been loaded\".format(profile[\"screen_name\"]))"
      ],
      "execution_count": 12,
      "outputs": [
        {
          "output_type": "stream",
          "name": "stdout",
          "text": [
            "juventusfcpt profile has been loaded\n"
          ]
        }
      ]
    },
    {
      "cell_type": "markdown",
      "metadata": {
        "id": "RoasPoNwd-H0"
      },
      "source": [
        "# 2.3 Get user friends and followers\n",
        "In this subsection, we show an example of crawling friends/followers of  juventusfcpt. <br>\n",
        " **Be sure not to run this module too many times, because it can easily hit the rate limit (api.friends and api.followers: up to 15 requests per 15 minutes).**\n",
        "\n",
        "## 2.3.1 Basic functions\n",
        "1. api.friends: crawl the the user's friends profiles\n",
        "2. api.followers: crawl the user's followers profiles \n",
        "\n",
        "Here is an example :"
      ]
    },
    {
      "cell_type": "code",
      "metadata": {
        "trusted": true,
        "id": "F1Zou7XCd-H0",
        "colab": {
          "base_uri": "https://localhost:8080/"
        },
        "outputId": "eeb0437d-3485-4c0e-dfdb-3dff07a4be88"
      },
      "source": [
        "# get firends with user_id/screen_name, the max count you can set is 200\n",
        "\n",
        "screen_name = \"juventusfcpt\" # You can replace the id/user_id/screen_name to any user's screen_name\n",
        "friends = api.friends(screen_name=screen_name, count=200)  \n",
        "print(\"The number of the collected friends profiles is: {}\".format(len(friends)))\n",
        "\n",
        "# show the first 10 screen_name of the friends of juventus\n",
        "print(\"The first 10 collected friends' screen names are:\")\n",
        "for friend in friends[:10]:\n",
        "    print(friend.screen_name)\n",
        "\n",
        "# get followers with user_id/screen_name, the max count you can set is 200\n",
        "followers = api.followers(screen_name=screen_name, count=200)\n",
        "print(\"\\nThe number of the collected followers profiles is: {}\".format(len(followers)))\n",
        "print(\"The first 10 collected followers' screen names are:\")\n",
        "for follower in followers[:10]:\n",
        "    print(follower.screen_name)\n"
      ],
      "execution_count": 13,
      "outputs": [
        {
          "output_type": "stream",
          "name": "stdout",
          "text": [
            "The number of the collected friends profiles is: 51\n",
            "The first 10 collected friends' screen names are:\n",
            "SerieA_BR\n",
            "paulpogba\n",
            "giovanaadeassis\n",
            "Deniszakaria8\n",
            "mati_soule\n",
            "locamanuel73\n",
            "play_eFootball\n",
            "kaiojorge\n",
            "federicochiesa\n",
            "Merihdemiral\n",
            "\n",
            "The number of the collected followers profiles is: 200\n",
            "The first 10 collected followers' screen names are:\n",
            "ENRICO61648507\n",
            "bernardomachp\n",
            "hirotaka3012\n",
            "ribeirocloves1\n",
            "XhevairBaxhia3\n",
            "NovaisWell\n",
            "bhady_mhmd\n",
            "turaan_1\n",
            "Lucievenys\n",
            "_alvesduda\n"
          ]
        }
      ]
    },
    {
      "cell_type": "markdown",
      "metadata": {
        "id": "xUZnG9XId-H2"
      },
      "source": [
        "## 2.3.2 Cursor in tweepy, attain more friends/followers\n",
        "The **max count** of profiles of friends and followers **per request is 200**. \n",
        "In order to get more profiles, we need to use the **cursor function** to iteratively get profiles, i.e.tweepy.Cursor. In cursor function, the first parameter is a functon, say api.followers. \n",
        "The other parameters should be the function parameters of the input function. More detailed tutorial is [here](http://docs.tweepy.org/en/latest/cursor_tutorial.html).<br>\n",
        "The example code is:\n"
      ]
    },
    {
      "cell_type": "code",
      "metadata": {
        "trusted": true,
        "id": "7CB4XsRjd-H2",
        "colab": {
          "base_uri": "https://localhost:8080/"
        },
        "outputId": "03ea8875-4b39-4ef4-9eb9-90f5a898419f"
      },
      "source": [
        "# Here we get the 500 followers of juventusfcpt\n",
        "more_followers = []\n",
        "for follower in tweepy.Cursor(api.followers,screen_name=screen_name,count=200).items(500): #without 500 it will try to get all the user profiles\n",
        "    more_followers.append(follower)\n",
        "print(\"With cursor, we have attained {} follower profiles\".format(len(more_followers)))"
      ],
      "execution_count": 14,
      "outputs": [
        {
          "output_type": "stream",
          "name": "stdout",
          "text": [
            "With cursor, we have attained 500 follower profiles\n"
          ]
        }
      ]
    },
    {
      "cell_type": "markdown",
      "metadata": {
        "id": "j8oSX2p4d-H4"
      },
      "source": [
        "## 2.3.3 Get ID of friends and followers instead of full profiles\n",
        "Sometimes, we don't need friends' user profiles, instead we only need their IDs. In this case, we use api.friends_ids and **max count of IDs** of frirends and followers **per request is 5000**. <br>\n",
        "We can use the following code:"
      ]
    },
    {
      "cell_type": "code",
      "metadata": {
        "trusted": true,
        "scrolled": true,
        "id": "mEuz6Bq9d-H4",
        "colab": {
          "base_uri": "https://localhost:8080/"
        },
        "outputId": "0cc58bc0-fcb4-43b7-b779-4aa541d63c10"
      },
      "source": [
        "# get friends ID\n",
        "screen_name = \"juventusfcpt\"\n",
        "friends_id_list = api.friends_ids(screen_name,count=5000)\n",
        "\n",
        "print(\"The number of friend IDs is: {}\".format(len(friends_id_list)))\n",
        "print(\"The first 10 friend IDs are:\")\n",
        "print(friends_id_list[:10])\n",
        "\n",
        "# save friends ID\n",
        "user_friends_path = os.path.join(directory,\"{}_friends_id.json\".format(screen_name))\n",
        "with open(user_friends_path,\"w\") as f:\n",
        "    json.dump(friends_id_list,f)\n",
        "    print(\"friend IDs saved \\n\")"
      ],
      "execution_count": 15,
      "outputs": [
        {
          "output_type": "stream",
          "name": "stdout",
          "text": [
            "The number of friend IDs is: 51\n",
            "The first 10 friend IDs are:\n",
            "[1547547610260578305, 2491702663, 1973330448, 1691311502, 748163378191994880, 1084072313509855232, 95411613, 758089132744777729, 2230170215, 760009436]\n",
            "friend IDs saved \n",
            "\n"
          ]
        }
      ]
    },
    {
      "cell_type": "markdown",
      "metadata": {
        "id": "R4nTrUfpd-H6"
      },
      "source": [
        "Now we have get the friends IDs of juventusfcpt and saved the file. You should see the file in the folder. This is how we get the friend list. In Lab 2, we will implemet BFS to traverse the Twitter network.  Note that though we set the count to 5000, but juventusfcpt is only following 45 users. That's why we see the number of friend IDs is 45."
      ]
    },
    {
      "cell_type": "code",
      "metadata": {
        "trusted": true,
        "id": "0AlHNC2Ad-H7",
        "colab": {
          "base_uri": "https://localhost:8080/"
        },
        "outputId": "074f5bbc-83bd-462e-cc99-f241f0090c54"
      },
      "source": [
        "# get followers ID\n",
        "followers_id_list = api.followers_ids(screen_name,count=5000)\n",
        "print(\"The number of followers IDs is: {}\".format(len(followers_id_list)))\n",
        "print(\"The first 10 follower IDs are:\")\n",
        "print(followers_id_list[:10])\n",
        "\n",
        "# save followers ID\n",
        "user_followers_path = os.path.join(directory,\"{}_followers_id.json\".format(screen_name))\n",
        "with open(user_followers_path,\"w\") as f:\n",
        "    json.dump(followers_id_list,f)\n",
        "    print(\"follower IDs saved\")"
      ],
      "execution_count": 16,
      "outputs": [
        {
          "output_type": "stream",
          "name": "stdout",
          "text": [
            "The number of followers IDs is: 5000\n",
            "The first 10 follower IDs are:\n",
            "[1565923186813947904, 768268833496805377, 1393932675086307333, 3252334497, 1080274001065328641, 805370579339636736, 1560742696314093568, 1564650902157410306, 1565735353511821313, 402483583]\n",
            "follower IDs saved\n"
          ]
        }
      ]
    },
    {
      "cell_type": "markdown",
      "metadata": {
        "id": "NaTrsg8md-H9"
      },
      "source": [
        "Now we have get the 5000 follower IDs of juventusfcpt and saved the file. You should see the file in the folder."
      ]
    },
    {
      "cell_type": "markdown",
      "metadata": {
        "id": "YNn1VOH5d-H9"
      },
      "source": [
        "### Cursor to get complete IDs\n",
        "Cursor could also be applied to get complete IDs of the friends/followers. <br>\n",
        "Here is an example of getting 10000 followers of juventusfcpt"
      ]
    },
    {
      "cell_type": "code",
      "metadata": {
        "trusted": true,
        "id": "N9TBysUGd-H9",
        "colab": {
          "base_uri": "https://localhost:8080/"
        },
        "outputId": "3f5a5649-c81b-4c9b-b5c1-42ecec934a99"
      },
      "source": [
        "more_followers_id = []\n",
        "for followers_id in tweepy.Cursor(api.followers_ids,screen_name=\"juventusfcpt\",count=5000).items(10000):\n",
        "     more_followers_id.append(followers_id)\n",
        "print(\"With cursor, we obtain {} user followers IDs\".format(len(more_followers_id)))"
      ],
      "execution_count": 17,
      "outputs": [
        {
          "output_type": "stream",
          "name": "stdout",
          "text": [
            "With cursor, we obtain 10000 user followers IDs\n"
          ]
        }
      ]
    },
    {
      "cell_type": "markdown",
      "metadata": {
        "id": "6Aj_MR3rd-H_"
      },
      "source": [
        "## <font color='green'>Exercise 3: Play with the cursor to get all IDs of your friends and followers</font>\n",
        "1. Please follow the steps of using the cursor, and collect **complete friends and followers IDs** of yourself or other user you are interested with.\n",
        "2. After finishing the collection, save them into two json files as **section 2.3.3**. <br>\n",
        "3. Please list the numbers of friends/followers IDs you have collected. Compare them with friends_count and followers_count you presented in EX2, which should be roughly equal.\n",
        "\n",
        "**Tips:** \n",
        "1. Please save the json files in directory: `/content/gdrive/My Drive/DS402/results` to ensure that the files could be viewed in google drive. <br>\n",
        "2. Remember to set the count to 5000, if the number of your friends and followers are large."
      ]
    },
    {
      "cell_type": "code",
      "metadata": {
        "trusted": true,
        "id": "sVQbX9MBd-H_"
      },
      "source": [
        "# TO DO: Eneter your code here"
      ],
      "execution_count": null,
      "outputs": []
    },
    {
      "cell_type": "markdown",
      "metadata": {
        "id": "ddN-Gbv4d-IB"
      },
      "source": [
        "## 2.3.4 A trick to get the user followers/friends profiles quciker\n",
        "We could directly get the followers/friends profiles through api.friends and api.followers. However, with this function we are limited to attain 15 * 200 profiles per 15 minutes. With the following steps, we could speed up this collecting process.\n",
        "1. Obtain the followers/friends IDs (max rate: 15 * 5000 per 15 minutes)\n",
        "2. Split the IDs with n chunks, that each contains 100 IDs.\n",
        "3. Get the followers/friends profiles with api.lookup_users (max rate: 900 * 100 per 15 minutes)\n",
        "\n",
        "With this trick, we can get 75000 user profiles per 15 minutes"
      ]
    },
    {
      "cell_type": "code",
      "metadata": {
        "trusted": true,
        "id": "HbJ5KFe-d-IC"
      },
      "source": [
        "# This function is used to split the followers id into chuncks, with each chunk having 100 IDs\n",
        "def split2chunks(more_followers_id):\n",
        "    chunks = []\n",
        "    for i in range(0,len(more_followers_id),100):\n",
        "        if(i+100 < len(more_followers_id)):\n",
        "            chunks.append(more_followers_id[i:i+100])\n",
        "        else:\n",
        "            chunks.append(more_followers_id[i:])\n",
        "    return chunks"
      ],
      "execution_count": 18,
      "outputs": []
    },
    {
      "cell_type": "code",
      "metadata": {
        "trusted": true,
        "id": "nrxy3QM5d-IE"
      },
      "source": [
        "# 1. get 10000 followers of juventusfcpt\n",
        "screen_name = \"juventusfcpt\"\n",
        "more_followers_id = []\n",
        "for followers_id in tweepy.Cursor(api.followers_ids,screen_name=screen_name,count=5000).items(10000):\n",
        "     more_followers_id.append(followers_id)"
      ],
      "execution_count": 19,
      "outputs": []
    },
    {
      "cell_type": "code",
      "metadata": {
        "trusted": true,
        "id": "gEMuRNSJd-IF"
      },
      "source": [
        "# 2. split the list of ID into chunks: we call the function split2chunks to do this\n",
        "more_followers_chunks = split2chunks(more_followers_id)"
      ],
      "execution_count": 20,
      "outputs": []
    },
    {
      "cell_type": "code",
      "metadata": {
        "trusted": true,
        "id": "AZ-Z9sOYd-IH",
        "colab": {
          "base_uri": "https://localhost:8080/"
        },
        "outputId": "32fbbdd7-168d-463b-a282-84cb0cd857bf"
      },
      "source": [
        "# 3. Get the followers profiles. The profiles are put in more_followers.\n",
        "more_followers = []\n",
        "\n",
        "for i,chunk in enumerate(more_followers_chunks):\n",
        "    more_followers += api.lookup_users(chunk)\n",
        "    print(\"{} chunks has been processed\".format(i))"
      ],
      "execution_count": 21,
      "outputs": [
        {
          "output_type": "stream",
          "name": "stdout",
          "text": [
            "0 chunks has been processed\n",
            "1 chunks has been processed\n",
            "2 chunks has been processed\n",
            "3 chunks has been processed\n",
            "4 chunks has been processed\n",
            "5 chunks has been processed\n",
            "6 chunks has been processed\n",
            "7 chunks has been processed\n",
            "8 chunks has been processed\n",
            "9 chunks has been processed\n",
            "10 chunks has been processed\n",
            "11 chunks has been processed\n",
            "12 chunks has been processed\n",
            "13 chunks has been processed\n",
            "14 chunks has been processed\n",
            "15 chunks has been processed\n",
            "16 chunks has been processed\n",
            "17 chunks has been processed\n",
            "18 chunks has been processed\n",
            "19 chunks has been processed\n",
            "20 chunks has been processed\n",
            "21 chunks has been processed\n",
            "22 chunks has been processed\n",
            "23 chunks has been processed\n",
            "24 chunks has been processed\n",
            "25 chunks has been processed\n",
            "26 chunks has been processed\n",
            "27 chunks has been processed\n",
            "28 chunks has been processed\n",
            "29 chunks has been processed\n",
            "30 chunks has been processed\n",
            "31 chunks has been processed\n",
            "32 chunks has been processed\n",
            "33 chunks has been processed\n",
            "34 chunks has been processed\n",
            "35 chunks has been processed\n",
            "36 chunks has been processed\n",
            "37 chunks has been processed\n",
            "38 chunks has been processed\n",
            "39 chunks has been processed\n",
            "40 chunks has been processed\n",
            "41 chunks has been processed\n",
            "42 chunks has been processed\n",
            "43 chunks has been processed\n",
            "44 chunks has been processed\n",
            "45 chunks has been processed\n",
            "46 chunks has been processed\n",
            "47 chunks has been processed\n",
            "48 chunks has been processed\n",
            "49 chunks has been processed\n",
            "50 chunks has been processed\n",
            "51 chunks has been processed\n",
            "52 chunks has been processed\n",
            "53 chunks has been processed\n",
            "54 chunks has been processed\n",
            "55 chunks has been processed\n",
            "56 chunks has been processed\n",
            "57 chunks has been processed\n",
            "58 chunks has been processed\n",
            "59 chunks has been processed\n",
            "60 chunks has been processed\n",
            "61 chunks has been processed\n",
            "62 chunks has been processed\n",
            "63 chunks has been processed\n",
            "64 chunks has been processed\n",
            "65 chunks has been processed\n",
            "66 chunks has been processed\n",
            "67 chunks has been processed\n",
            "68 chunks has been processed\n",
            "69 chunks has been processed\n",
            "70 chunks has been processed\n",
            "71 chunks has been processed\n",
            "72 chunks has been processed\n",
            "73 chunks has been processed\n",
            "74 chunks has been processed\n",
            "75 chunks has been processed\n",
            "76 chunks has been processed\n",
            "77 chunks has been processed\n",
            "78 chunks has been processed\n",
            "79 chunks has been processed\n",
            "80 chunks has been processed\n",
            "81 chunks has been processed\n",
            "82 chunks has been processed\n",
            "83 chunks has been processed\n",
            "84 chunks has been processed\n",
            "85 chunks has been processed\n",
            "86 chunks has been processed\n",
            "87 chunks has been processed\n",
            "88 chunks has been processed\n",
            "89 chunks has been processed\n",
            "90 chunks has been processed\n",
            "91 chunks has been processed\n",
            "92 chunks has been processed\n",
            "93 chunks has been processed\n",
            "94 chunks has been processed\n",
            "95 chunks has been processed\n",
            "96 chunks has been processed\n",
            "97 chunks has been processed\n",
            "98 chunks has been processed\n",
            "99 chunks has been processed\n"
          ]
        }
      ]
    },
    {
      "cell_type": "markdown",
      "metadata": {
        "id": "bQXq2UgNd-IJ"
      },
      "source": [
        "## 2.3.5 Get friends/followers locations\n",
        "Now we have get 10000 followers of juventusfcpt. Let's analyze where these followers come from. The location is covered in the user object, with tweepy we can get the locations as:"
      ]
    },
    {
      "cell_type": "code",
      "metadata": {
        "trusted": true,
        "id": "239JRX-id-IJ",
        "colab": {
          "base_uri": "https://localhost:8080/"
        },
        "outputId": "b1be42a3-ed6a-4a8c-8ab5-a99e9f83e5b3"
      },
      "source": [
        "from collections import Counter\n",
        "cities = Counter()  # A Counter is a container that keeps track of how many times equivalent values are added. \n",
        "for follower in more_followers:\n",
        "    if(follower.location):  # if the location exists\n",
        "        cities.update([follower.location])  # add the location into the cities\n",
        "print(\"{} unique locations found in their profiles\".format(len(cities)))"
      ],
      "execution_count": 22,
      "outputs": [
        {
          "output_type": "stream",
          "name": "stdout",
          "text": [
            "2027 unique locations found in their profiles\n"
          ]
        }
      ]
    },
    {
      "cell_type": "markdown",
      "metadata": {
        "id": "fXtvyL60d-IL"
      },
      "source": [
        "### Visualize the location of followers\n",
        "matplotlib and geogy are used for the locations visualization. Here, we build a function to visualize the locations of the users. <br>"
      ]
    },
    {
      "cell_type": "code",
      "metadata": {
        "trusted": true,
        "scrolled": false,
        "id": "b0qld01bd-IL"
      },
      "source": [
        "def loc_visualize(cities,most_common):\n",
        "    import matplotlib.pyplot as plt\n",
        "    from mpl_toolkits.basemap import Basemap\n",
        "    from geopy.geocoders import Nominatim\n",
        "    import geopy\n",
        "    import math\n",
        "    import time\n",
        "\n",
        "    scale = 2\n",
        "    plt.figure(figsize=(10,7))\n",
        "\n",
        "    map = Basemap()\n",
        "\n",
        "    # draw the world map with coast lines \n",
        "    map.drawmapboundary()\n",
        "    map.fillcontinents()\n",
        "    map.drawcoastlines()\n",
        "\n",
        "    # Get the location of each city and plot it\n",
        "    geolocator = Nominatim()\n",
        "    for i,(city,count) in enumerate(cities.most_common(most_common)):\n",
        "        if(i % 20 ==19):\n",
        "            print(\"we have attained {} geocodes\".format(i+1))\n",
        "        try:\n",
        "            loc = geolocator.geocode(city)\n",
        "            time.sleep(1)\n",
        "            if(loc):\n",
        "                x, y = map(loc.longitude, loc.latitude)\n",
        "                map.plot(x,y,marker='o',color='Red',markersize=int(math.sqrt(count))*scale)\n",
        "        except KeyboardInterrupt:\n",
        "            break\n",
        "        except:\n",
        "            print(\"one error appears to get the longitude and latitude of {}\".format(city))\n",
        "            pass\n",
        "\n",
        "    plt.show()"
      ],
      "execution_count": 23,
      "outputs": []
    },
    {
      "cell_type": "markdown",
      "metadata": {
        "id": "-C7kiv0Yd-IN"
      },
      "source": [
        "### Next, we plot the 60 most frequent places of the follower locations that we have collected. It may takes 2 minutes to complete this cell. After it finishes, you should see a map with red dots on it. The larger the dot is, the more frequent users are in this location. If you do not see a map, it may due to a bug of notebook. You can re-run it."
      ]
    },
    {
      "cell_type": "code",
      "metadata": {
        "trusted": true,
        "id": "eVo-cUsed-IN",
        "colab": {
          "base_uri": "https://localhost:8080/",
          "height": 420
        },
        "outputId": "751e2e3c-f416-42ed-d4b4-7b8a751d2468"
      },
      "source": [
        "loc_visualize(cities,60)"
      ],
      "execution_count": 24,
      "outputs": [
        {
          "output_type": "stream",
          "name": "stderr",
          "text": [
            "/usr/local/lib/python3.7/dist-packages/geopy/geocoders/osm.py:143: UserWarning: Using Nominatim with the default \"geopy/1.17.0\" `user_agent` is strongly discouraged, as it violates Nominatim's ToS https://operations.osmfoundation.org/policies/nominatim/ and may possibly cause 403 and 429 HTTP errors. Please specify a custom `user_agent` with `Nominatim(user_agent=\"my-application\")` or by overriding the default `user_agent`: `geopy.geocoders.options.default_user_agent = \"my-application\"`. In geopy 2.0 this will become an exception.\n",
            "  UserWarning\n"
          ]
        },
        {
          "output_type": "stream",
          "name": "stdout",
          "text": [
            "we have attained 20 geocodes\n",
            "we have attained 40 geocodes\n",
            "we have attained 60 geocodes\n"
          ]
        },
        {
          "output_type": "display_data",
          "data": {
            "text/plain": [
              "<Figure size 720x504 with 1 Axes>"
            ],
            "image/png": "[encoded data removed]"
          },
          "metadata": {}
        }
      ]
    },
    {
      "cell_type": "markdown",
      "metadata": {
        "id": "nK_XlbHdd-IQ"
      },
      "source": [
        "## <font color='green'>Exercise 4: Visualize the locations of IST followers</font>\n",
        "Here you are required to complete the following code to visualize the locations of IST twitter followers(@ISTatPENNSTATE).\n",
        "<br> IST currently have around 9151 followers.\n"
      ]
    },
    {
      "cell_type": "code",
      "metadata": {
        "trusted": true,
        "id": "fw9b5TIKd-IQ"
      },
      "source": [
        "screen_name = \"ISTatPENNSTATE\"\n",
        "# TODO: 1. Fill the code of collecting all follower IDs\n",
        "\n",
        "IST_followers_ids = []\n",
        "for followers_id in tweepy.Cursor(api.followers_ids,screen_name=screen_name,count=5000).items():\n",
        "    # append the follwers_id to IST_followers_ids\n",
        "    # Please fill in the code here ????????????????????\n",
        "print(\"the number of obtained followers ids is: {}\".format(len(IST_followers_ids)))"
      ],
      "execution_count": null,
      "outputs": []
    },
    {
      "cell_type": "code",
      "metadata": {
        "trusted": true,
        "id": "70I-DszZd-IS"
      },
      "source": [
        "IST_followers_chunks = split2chunks(IST_followers_ids)\n",
        "IST_followers = []\n",
        "\n",
        "# 2. Fill the code of collecting the profiles\n",
        "for i,chunk in enumerate(IST_followers_chunks):\n",
        "    # use api.lookup_users(chunk) to get user profiles and append it to IST_followers\n",
        "    # Please fill the code here ??????????????????????\n",
        "    print(\"{} chunks has been processed\".format(i))\n",
        "    \n",
        "print(\"{} follower profiles has been attained\".format(len(IST_followers)))"
      ],
      "execution_count": null,
      "outputs": []
    },
    {
      "cell_type": "code",
      "metadata": {
        "trusted": true,
        "id": "SitwbcAwd-IU"
      },
      "source": [
        "# run this cell to visualize the most 60 frequent locations\n",
        "from collections import Counter\n",
        "cities = Counter()\n",
        "for follower in IST_followers:\n",
        "    if(follower.location):\n",
        "        cities.update([follower.location])\n",
        "print(\"{} unique locations found in their profiles\".format(len(cities)))\n",
        "\n",
        "loc_visualize(cities,60)"
      ],
      "execution_count": null,
      "outputs": []
    },
    {
      "cell_type": "markdown",
      "metadata": {
        "id": "DEswv-lSd-IX"
      },
      "source": [
        "# 2.4 Get user timeline\n",
        "Get timelilne with id/user_id/screen_name, we can set the **count from 0 to 100.**"
      ]
    },
    {
      "cell_type": "code",
      "metadata": {
        "trusted": true,
        "id": "c4f5xEDKd-IY",
        "colab": {
          "base_uri": "https://localhost:8080/"
        },
        "outputId": "d1fcb9f0-f49f-45b2-8f03-884e1b6d134d"
      },
      "source": [
        "screen_name = \"juventusfcpt\"\n",
        "timeline = api.user_timeline(screen_name=screen_name, count=100) \n",
        "print(\"The number of timeline we collect is {}\".format(len(timeline)))\n",
        "for status in timeline:\n",
        "    print(status._json['text'])"
      ],
      "execution_count": 26,
      "outputs": [
        {
          "output_type": "stream",
          "name": "stdout",
          "text": [
            "The number of timeline we collect is 100\n",
            "Cobrança de falta de @fbernardeschi ➕ linda finalização de Pipita Higuaín nos deram a vitória no #FiorentinaJuve de… https://t.co/Vy7WzbTGiR\n",
            "📹 Hora de conferir tudo o que aconteceu na vitória dos Bianconeri no #JuveSpezia 🤩\n",
            "Apenas @gianluigibuffon fazendo coisas de Buffon 💪🤩\n",
            "\n",
            "#FiorentinaJuve ⏳ \n",
            "\n",
            "https://t.co/VwS4pEGg3H\n",
            "Sextou em busca do shape 💪\n",
            "\n",
            "https://t.co/ZCVkdF3TQW\n",
            "⚪⚫ Aqui estão os relacionados para o #FiorentinaJuve ✈️\n",
            "\n",
            "💪 @bitgetglobal\n",
            " \n",
            "#ForzaJuve https://t.co/a8aiRckjzx\n",
            "Confira como foi a coletiva do Mister Allegri pré-#FiorentinaJuve 🗣\n",
            "E esses foram os pensamentos finais do treinador sobre o #FiorentinaJuve 💭\n",
            "\n",
            "Mais a seguir 🔜\n",
            "🎙 Allegri: \"Descansar #DV9? Eu vou decidir. Agora temos que pensar em ter continuidade nos nossos resultados, para… https://t.co/g1zTLeVcn4\n",
            "🎙 Allegri: \"No início do mercado de transferências tínhamos um objetivo: manter nossos jovens jogadores e deixá-los… https://t.co/f66J3A3AEB\n",
            "🎙 Allegri: \"Bonucci está bem, ele treinou ontem pela primeira vez com a equipe, vou considerar se jogo com ele aman… https://t.co/HKW1hpbi4T\n",
            "🎙 Allegri: \"Zakaria? Havia essa possibilidade, ele se sentiu um pouco retraído e aceitou o Chelsea com entusiasmo.… https://t.co/m6gBijxO6B\n",
            "🎙 Allegri: \"O clube esteve muito bem tanto nas entradas como nas saídas de transferências. Paredes chegou com entus… https://t.co/MY2HdLs5Yz\n",
            "🎙 Allegri: \"Em Florença, os jogos são sempre difíceis de jogar, mas temos de nos concentrar e pensar um jogo de cad… https://t.co/e4yU26ugYI\n",
            "🗣 Hora de conferir a coletiva do Mister antes do #FiorentinaJuve: ⤵️ https://t.co/j64LTxPMr8\n",
            "🔙 Memória de quando marcamos 5️⃣ gols no #FiorentinaJuve 🎉\n",
            "\n",
            "https://t.co/9recszMQ6C\n",
            "🎬 Hora de conferir os bastidores do #WelcomeParedes ⚪️⚫️\n",
            "\n",
            "📺 Vídeo completo no nosso YouTube 👇\n",
            "Não tem espaço? Deixa que o Di María resolve 🫶\n",
            "\n",
            "https://t.co/xE28xSyCfo&lt;\n",
            "Tenha um feliz aniversário, Möller! 🎂 https://t.co/AIuMh7gQVp\n",
            "Boa sorte, @Deniszakaria8! 🇨🇭👊\n",
            "\n",
            "https://t.co/l2t42JABJ3\n",
            "OFICIAL | @Deniszakaria8 junta-se ao @ChelseaFC por empréstimo.\n",
            "\n",
            "Obrigado e boa sorte, Denis! 💪\n",
            "Que homem! ⚪️⚫️🥰\n",
            " \n",
            "#WelcomeParedes https://t.co/oGIduXBToE\n",
            "https://t.co/7E7ps5p7a0\n",
            "Obrigado, @arthurhromelo! 🇧🇷\n",
            "https://t.co/SrAp21rCqq\n",
            "OFICIAL | @arthurhromelo se junta ao @LFCBrasil em um empréstimo de uma temporada.\n",
            "\n",
            "Obrigado e boa sorte, Arthur! 🙌 https://t.co/chu5O1VdSx\n",
            "Nossa agenda de setembro! ⚪️⚫️📆 https://t.co/CGnqlMmbEa\n",
            "O Mago está aqui! 🧙‍♂️ ⚪️⚫️\n",
            "\n",
            "#BemVindoParedes\n",
            "https://t.co/gklncfLHW4\n",
            "Vai um autógrafo do homem aí? ⚪️⚫️ ✍️\n",
            " \n",
            "#BemVindoParedes\n",
            "https://t.co/mMMCwU69qn\n",
            "ⓅⒶⓇⒺⒹⒺⓈ 3️⃣2️⃣⚪️⚫️\n",
            "\n",
            "Compre a sua camisa aqui 📲 https://t.co/4UsxQqlTlY\n",
            "\n",
            "#WelcomeParedes https://t.co/as7rmyRO5Y\n",
            "🗣 \"𝘌𝘶 𝘴𝘦𝘮𝘱𝘳𝘦 𝘴𝘰𝘯𝘩𝘦𝘪 𝘦𝘮 𝘷𝘪𝘳 𝘱𝘳𝘢 𝘑𝘶𝘷𝘦.\"\n",
            "\n",
            "🎙 Confira a primeira entrevista do argentino com a camisa ⚪️⚫️⤵️\n",
            "\n",
            "#WelcomeParedes\n",
            "Quer uma curiosidade? @arekmilik9 foi 3️⃣5️⃣0️⃣º jogador diferente a marcar um gol pela Juve na @SerieA_BR ⚽\n",
            "\n",
            "Mais… https://t.co/sDFN2SsYBh\n",
            "𝘉𝘪𝘦𝘯𝘷𝘦𝘯𝘪𝘥𝘰, @LParedss! 🇦🇷👊\n",
            "\n",
            "👕⚪️⚫️👉 https://t.co/HCO6bbzGiw\n",
            " \n",
            "#WelcomeParedes https://t.co/1bCTNEH4sW\n",
            "OFICIAL | Marko Pjaca foi emprestado ao @EmpoliCalcio até 30 de junho de 2023.\n",
            "\n",
            "Boa sorte, Marko 💪🏻 https://t.co/W69mAzjeGO\n",
            "⚪️⚫️ 𝘾𝙖𝙡𝙚𝙣𝙙𝙖́𝙧𝙞𝙤 𝙙𝙚 𝙨𝙚𝙩𝙚𝙢𝙗𝙧𝙤 📆🔥\n",
            "\n",
            "Pra qual partida você tá mais ansioso? 🤔👇 https://t.co/K9iB9Iwk8n\n",
            "📹 Mais um golaço de falta do #DV9 e o primeiro gol de @arekmilik9 com a camisa ⚪️⚫️ selaram a nossa vitória no… https://t.co/U04FMhldrj\n",
            "ATUALIZAÇÃO MÉDICA | Após torcer o tornozelo, ontem à noite @13Szczesny13 foi submetido a exames radiológicos no J|… https://t.co/HHNuWz0i6B\n",
            "💬 @arekmilik9: \"É fantástico marcar neste estádio e com esta camisa.\" 🤍🖤\n",
            "\n",
            "Todos os comentários pós-jogo da #JuveSpezia ⤵️\n",
            "Pé-quente o @LParedss na sua primeira ida ao Allianz 👋🏟️\n",
            "\n",
            "#WelcomeParedes https://t.co/99T16LDNNr\n",
            "Tenham um b⚽️m dia, Bianconeri! ☀️\n",
            "\n",
            "#JuveSpezia #ForzaJuve https://t.co/p4CA60d99T\n",
            "Vamos juntos em busca dos nossos objetivos, Bianconeri 👊⚪️⚫️\n",
            "\n",
            "#JuveSpezia #ForzaJuve https://t.co/SHwU4kMF12\n",
            "🗞 Gols de #DV9 e @arekmilik9 garantiram a vitória no #JuveSpezia 💪\n",
            "Paredes conhecendo os novos companheiros de equipe e o Mister! 😃🤝\n",
            "\n",
            "#WelcomeParedes https://t.co/5U1rUgRrQK\n",
            "Recado do @arekmilik9 para vocês! ⚽️😃 \n",
            "\n",
            "#JuveSpezia #ForzaJuve\n",
            "\n",
            " https://t.co/Rcuo0rt6h8\n",
            ".@arekmilik9 conhece bem o caminho do gol! 🎯⚽️\n",
            "\n",
            "#JuveSpezia #ForzaJuve https://t.co/PuD2q86qsy\n",
            "Paredes já se sentindo em casa 🏡⚪️⚫️\n",
            "\n",
            "#WelcomeParedes\n",
            "\n",
            " https://t.co/5TeCG3k8Ai\n",
            "O sorriso de quem marcou mais um golaço de falta! 🤩\n",
            "\n",
            "#JuveSpezia #ForzaJuve https://t.co/IAQTKs0nI7\n",
            "FINAL | ⌛️ | #DV9 e @arekmilik9 balançaram as redes e garantiram os três pontos para a Juve! 👊⚪️⚫️\n",
            "\n",
            "💪 @EAFIFABR… https://t.co/53Ysy14HQx\n",
            "90+2’ | ⚽️ | GOOOOOOOOOOOOOOOLLLL!! \n",
            "\n",
            "@arekmilik9 MARCA O SEGUNDO E GARANTE A VITÓRIA DA JUVE!\n",
            "\n",
            "💪 @EAFIFABR… https://t.co/nhIOZO1n3k\n",
            "O brabo ☝️ https://t.co/pgRoFdxyfi https://t.co/8qof1CzrFR\n",
            "🔙🤩\n",
            "\n",
            "#JuveSpezia #ForzaJuve https://t.co/ULt5fzWbli\n",
            "👋 @LParedss com um recado para vocês, Bianconeri! 🤳\n",
            "\n",
            " https://t.co/tmeOaPcryr\n",
            "54' | 🔁 | Simplesmente Di María! 🫶\n",
            "\n",
            "#JuveSpezia #ForzaJuve\n",
            "\n",
            " https://t.co/EWtvbIWsX7\n",
            "46’ | 🔙 | Bola rolando para a segunda etapa. Vamos pra cima, Bianconeri! 👊\n",
            "\n",
            "#JuveSpezia [1-0] #ForzaJuve https://t.co/5qELXM1u6I\n",
            "Primeira experiência no Allianz para o @LParedss 🏟🥰\n",
            "\n",
            " https://t.co/PfFvsRJFMv\n",
            "Olha quem acabou de chegar 👋\n",
            "\n",
            "#WelcomeParedes\n",
            "\n",
            " https://t.co/2AT9nJ6qJ2\n",
            "INTERVALO | ⏳ | Vitória parcial da Juve com golaço de falta do #DV9! 🔥👌\n",
            "\n",
            "#JuveSpezia #ForzaJuve https://t.co/qS0wrR3Ex2\n",
            "Pareceu replay! 🔁\n",
            "\n",
            "Mais um golaço de falta no ângulo do #DV9 🔥\n",
            "\n",
            "#JuveSpezia #ForzaJuve https://t.co/56luhvN1D0\n",
            "O HOMEM CRAVA! 🔥💪\n",
            "\n",
            "#JuveSpezia #ForzaJuve https://t.co/9EHgjBUuj0\n",
            "9’ | ⚽️ | GOLAÇOOOOOOOOO!! \n",
            "\n",
            "#DV9 cobre falta no ângulo e abre o placar para a Juve!!! 🔥\n",
            "\n",
            "💪 @EAFIFABR \n",
            "\n",
            "#JuveSpezia… https://t.co/diM8iBHXQj\n",
            "1’ | 🎬 | BOLA ROLANDO! VAMOS PRA CIMA, JUVE! 💪\n",
            "\n",
            "🙌 @bitgetglobal\n",
            "\n",
            "#JuveSpezia [0-0] #ForzaJuve https://t.co/WM1OyDZZkM\n",
            "Reta final de aquecimento para o #JuveSpezia 🆙👊\n",
            "\n",
            "#ForzaJuve \n",
            "\n",
            "https://t.co/RmtnxnJqNh\n",
            "Preparativos finais para #JuveSpezia 💪⚪️⚫️\n",
            "\n",
            "Vamos lá!\n",
            "\n",
            "#ForzaJuve https://t.co/TfQAzZNhau\n",
            "É hora do aquecimento! 🔥\n",
            "\n",
            "#JuveSpezia #ForzaJuve\n",
            "https://t.co/F4BmRM57hI\n",
            "Acelerando para #JuveSpezia! ⚡️\n",
            "\n",
            "#ForzaJuve \n",
            "https://t.co/X5nYDN8Qqk\n",
            "Nossas estrelas chegaram no Allianz 😎\n",
            "\n",
            "💪 #LoroPiana\n",
            "\n",
            "#JuveSpezia https://t.co/OmNqwC8BVC\n",
            "1️⃣1️⃣ | Estamos escalados! ⚪️⚫️\n",
            "\n",
            "Essa é o nosso onze inicial para #JuveSpezia! 📜\n",
            "\n",
            "💪 @EASPORTSFIFA\n",
            "\n",
            "#ForzaJuve https://t.co/6Q5vsH64EO\n",
            "Cá estamos nós! 💪\n",
            "\n",
            "#JuveSpezia #ForzaJuve \n",
            "https://t.co/rIa6QE7IkV\n",
            "Assim está a nossa casa para o jogo de hoje entre #JuveSpezia 🏟🥰\n",
            "\n",
            "#ForzaJuve\n",
            "https://t.co/n2KFKGqsB4\n",
            "Entre no Allianz como um jogador Bianconero! 🚶🥰\n",
            "\n",
            "🔜 #JuveSpezia\n",
            "https://t.co/xd0N8cIXyp\n",
            "LEANDRO PAREDES É JOGADOR DA JUVENTUS! ✅\n",
            "https://t.co/ClDyRWLFH0\n",
            "OFICIAL | Bem-vindo Leandro Paredes ⚪️⚫️\n",
            "\n",
            "#BemVindoParedes 🇦🇷 https://t.co/loTOoLejEw\n",
            "♈ Uma conclusão perfeita de @AlvaroMorata para garantir a vitória na última temporada no #JuveSpezia 💪\n",
            "https://t.co/XY38epdN91\n",
            "OFICIAL | Nicolò Rovella foi emprestado para o @ACMonza até 30 de junho de 2023.\n",
            "\n",
            "Boa sorte, Nico 💪🏻 https://t.co/Fkew3UiYcW\n",
            "3️⃣ gols, incluindo uma pintura de @federicochiesa, garantiram os 3️⃣ pontos no #JuveSpezia de 2020/21 🌟\n",
            "\n",
            " https://t.co/c0loyhtYbP\n",
            "📆𝗛𝗼𝗷𝗲 𝘁𝗲𝗺 𝗝𝘂𝘃𝗲 𝗲𝗺 𝗰𝗮𝗺𝗽𝗼!\n",
            "\n",
            "🇮🇹 @SerieA_BR \n",
            "🆚 @acspezia_en\n",
            "🏟 Allianz Stadium\n",
            "⏰ 15:45 🇧🇷 19:45 🇵🇹\n",
            "📲 #JuveSpezia https://t.co/SDftRpzk6K\n",
            "Allegri fez sua prévia para #JuveSpezia 🗣\n",
            "Marque essas datas, Bianconeri! 🗓✍️\n",
            "Nos preparando para #𝐉𝐮𝐯𝐞𝐒𝐩𝐞𝐳𝐢𝐚 🏃‍♂️ https://t.co/qcVpPZ9oDZ\n",
            "🎙🔚 Assim termina a conferência de imprensa de Massimiliano Allegri #JuveSpezia.\n",
            "🎙 Allegri: \"Rovella está indo para o Monza para jogar de forma consistente, regular e continuar seu crescimento. Fa… https://t.co/tezHRmFBKx\n",
            "🎙 Allegri: \"A competitividade no grupo é fundamental, temos muitos jogos e todos serão importantes. Precisamos cont… https://t.co/z75HAbIbZq\n",
            "🎙 Allegri: \"Precisei chamar o @WMckennie e ele respondeu bem, está crescendo em forma como todos os outros.\"\n",
            "\n",
            "#JuveSpezia\n",
            "🎙 Allegri: \"Amanhã será um jogo difícil, precisamos nos preparar muito bem para isso. \n",
            "\n",
            "O @acspezia tem quatro pont… https://t.co/tghtCFrbVH\n",
            "🎙 Allegri: \"Estou feliz com o progresso de Gatti até agora.\"\n",
            "\n",
            "#JuveSpezia\n",
            "🎙 Allegri: \"A partir de depois de amanhã, @bonucci_leo19 estará de volta à equipe e estará disponível para o jogo c… https://t.co/JcsHA7Rc3P\n",
            "🎙 Allegri: \"@paulpogba não está disponível no momento. Se tudo correr bem, semana que vem ele volta a correr.\"\n",
            "\n",
            "#JuveSpezia\n",
            "🎙 Allegri: \"Miretti fez um bom jogo contra a Roma, os jovens talentos jogam! Claro que existem vários momentos e fa… https://t.co/VrtfNtBOby\n",
            "🎙 Allegri: \"@arekmilik9 poderia jogar desde o início com Vlahović ou posso decidir começar com ele no banco.\"\n",
            "\n",
            "#JuveSpezia\n",
            "🎙 Allegri: \"Ainda não decidi a escalação, Di María e Fagioli estarão novamente disponíveis e decidirei amanhã de manhã.\"\n",
            "\n",
            "#JuveSpezia\n",
            "🗣 O técnico Max Allegri compartilhou seus pensamentos pré #JuveSpezia ⤵️ https://t.co/iY2EtSO78G\n",
            "🔥 A incrível cobrança de falta de DV9 e muito mais: assista os bastidores de #JuveRoma! 🎬\n",
            "⚽️ ou 🏐? https://t.co/fD0LI6VBbv\n",
            "Feliz aniversário ao nosso vice-presidente Pavel Nedved!\n",
            "Tenha um dia perfeito, Paulo! 🎈\n",
            "\n",
            " https://t.co/dQ1jm4gULl\n",
            "Muitas felicidades, Vladimir! 🎉 https://t.co/h3jCpkRpR7\n",
            "7️⃣ troféus com a camisa ⚪⚫, tenha um ótimo aniversário @pepigno7! 🥳 https://t.co/OU5TD0xlNa\n",
            "🎥 Começamos a preparação para o #JuveSpezia de quarta-feira 💪\n",
            "\n",
            "Confira como foi o dia dos bianconeri ⤵️\n",
            "Classe, @locamanuel73 ⚡️👌\n",
            "\n",
            "https://t.co/jpSbhaNNUO\n",
            "🗣 @arekmilik9 compartilhou seus pensamentos e ambições com a camisa ⚪️⚫️💪\n",
            "Dia de atividades no JTC 🦵⚽️ https://t.co/K0KcvscNAE\n",
            "Pegue o Kostić se puder! 🏎️\n",
            "\n",
            " https://t.co/6HZ0GsC7xW\n"
          ]
        }
      ]
    },
    {
      "cell_type": "markdown",
      "metadata": {
        "id": "5zP_z_M7d-IZ"
      },
      "source": [
        "## <font color='green'>Exercise 5: get the most recent 100 tweets of IST twitter (@ISTatPENNSTATE) using the timeline<font>"
      ]
    },
    {
      "cell_type": "code",
      "metadata": {
        "trusted": true,
        "id": "s_UNIBWkd-Ia"
      },
      "source": [
        "## TODO: your code here"
      ],
      "execution_count": null,
      "outputs": []
    }
  ]
}